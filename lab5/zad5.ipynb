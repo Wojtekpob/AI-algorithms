{
 "cells": [
  {
   "cell_type": "markdown",
   "metadata": {},
   "source": [
    "# WSI - Zadanie 5 <br/>\n",
    "### 09.12.2023 <br/>\n",
    "Wojciech Pobocha\n",
    "318399\n"
   ]
  },
  {
   "cell_type": "code",
   "execution_count": 16,
   "metadata": {},
   "outputs": [],
   "source": [
    "import gymnasium as gym\n",
    "import numpy as np\n",
    "import matplotlib.pyplot as plt"
   ]
  },
  {
   "cell_type": "code",
   "execution_count": 17,
   "metadata": {},
   "outputs": [],
   "source": [
    "def initQTable(gameEnvironment):\n",
    "    return np.zeros((gameEnvironment.observation_space.n, gameEnvironment.action_space.n))"
   ]
  },
  {
   "cell_type": "code",
   "execution_count": 18,
   "metadata": {},
   "outputs": [],
   "source": [
    "def chooseAction(gameEnvironment, state, QTable, epsilon):\n",
    "    if np.random.uniform() < epsilon:\n",
    "        action = gameEnvironment.action_space.sample()\n",
    "    else:\n",
    "        action = np.argmax(QTable[state, :])\n",
    "    return action"
   ]
  },
  {
   "cell_type": "code",
   "execution_count": 19,
   "metadata": {},
   "outputs": [],
   "source": [
    "def getUpdatedQTable(currentState, nextState, action, reward, QTable, beta, gamma):\n",
    "    QTable[currentState, action] = QTable[currentState, action] + beta * (reward + gamma * np.max(QTable[nextState, :]) - QTable[currentState, action])\n",
    "    return QTable"
   ]
  },
  {
   "cell_type": "markdown",
   "metadata": {},
   "source": [
    "# Funkcja służąca do przejścia gry według optymalnych wartości z QTable"
   ]
  },
  {
   "cell_type": "code",
   "execution_count": 20,
   "metadata": {},
   "outputs": [],
   "source": [
    "def playGame(gameEnvironment, QTable, maxSteps):\n",
    "    currentState = gameEnvironment.reset()[0]\n",
    "    isEndState = False\n",
    "    totalReward = 0\n",
    "    step = 0\n",
    "    while not isEndState and step < maxSteps:\n",
    "        action = chooseAction(gameEnvironment, currentState, QTable, 0)\n",
    "        nextState, reward, isEndState, _,_ = gameEnvironment.step(action)\n",
    "        currentState = nextState\n",
    "        totalReward += reward\n",
    "        step += 1\n",
    "        \n",
    "    return totalReward"
   ]
  },
  {
   "cell_type": "code",
   "execution_count": 40,
   "metadata": {},
   "outputs": [],
   "source": [
    "def QLearning(gameEnvironment, maxEpisodes, maxT, gamma, beta, epsilon):\n",
    "    if epsilon > 1 or epsilon < 0:\n",
    "        raise ValueError(\"Epsilon must be between 0 and 1\")\n",
    "    if beta < 0:\n",
    "        raise ValueError(\"Beta must be greater than 0\")\n",
    "    if gamma < 0:\n",
    "        raise ValueError(\"Gamma must be greater than 0\")\n",
    "    QTable = initQTable(gameEnvironment)\n",
    "    episode=0\n",
    "    episodeRewards = []\n",
    "    while episode < maxEpisodes:\n",
    "        currentState = gameEnvironment.reset()[0]\n",
    "        episodeRewards.append(0)\n",
    "        t = 0\n",
    "        while t < maxT:\n",
    "            action = chooseAction(gameEnvironment, currentState, QTable, epsilon)\n",
    "            nextState, reward, isEndState, _, _= gameEnvironment.step(action)\n",
    "            episodeRewards[episode] += reward\n",
    "\n",
    "            QTable = getUpdatedQTable(currentState,nextState, action, reward, QTable, beta, gamma)\n",
    "            currentState = nextState\n",
    "            if isEndState:\n",
    "                break\n",
    "            t+=1\n",
    "        episode+=1\n",
    "    return QTable, episodeRewards"
   ]
  },
  {
   "cell_type": "code",
   "execution_count": 22,
   "metadata": {},
   "outputs": [],
   "source": [
    "def getMeanRewards(episodeRewards, windowSize):\n",
    "    meanRewards = []\n",
    "    for i in range(len(episodeRewards)//windowSize):\n",
    "        meanRewards.append(np.mean(episodeRewards[max(0,i*windowSize):min(len(episodeRewards)-1,(i+1)*windowSize)]))\n",
    "    return np.array(meanRewards)"
   ]
  },
  {
   "cell_type": "code",
   "execution_count": 23,
   "metadata": {},
   "outputs": [],
   "source": [
    "def plotMeanRewards(episodeRewards, episodes, windowSize):\n",
    "    plt.plot(np.linspace(0,episodes,windowSize),episodeRewards)\n",
    "    plt.title(f'Mean Reward per {windowSize} episodes')\n",
    "    plt.xlabel('Episode')\n",
    "    plt.ylabel('Reward')\n",
    "    plt.show()"
   ]
  },
  {
   "cell_type": "code",
   "execution_count": 24,
   "metadata": {},
   "outputs": [],
   "source": [
    "def getMeanRewardsForMultipleRuns(gameEnvironment, maxEpisodes, maxT, gamma, beta, epsilon, runs, windowSize):\n",
    "    meanRewards = np.zeros(maxEpisodes//windowSize) \n",
    "    lastTableGame = 0\n",
    "    for i in range(runs):\n",
    "        QTable, episodeRewards = QLearning(gameEnvironment, maxEpisodes, maxT, gamma, beta, epsilon)\n",
    "        meanRewards += getMeanRewards(episodeRewards, windowSize)\n",
    "        lastTableGame += playGame(gameEnvironment, QTable, maxT)\n",
    "    return meanRewards/(runs), lastTableGame/runs"
   ]
  },
  {
   "cell_type": "markdown",
   "metadata": {},
   "source": [
    "# Opis eksperymentów\n",
    "Testowanie parametrów algorytmu odbywało się 50 razy dla każdej pary **gamma** i **beta**, w której były liczone średnie błędy na przekrojach kolejnych epok i oceniana była jakość ostatecznej tabeli Q. Stałe parametry `maxEpisodes=100`, `maxT=100`, `epsilon=0.001` zostały wybrane na początku na podstawie specyfiki podanej gry i jakościowej oceny sprawności dążenia do optymalnej tabeli Q."
   ]
  },
  {
   "cell_type": "code",
   "execution_count": 38,
   "metadata": {},
   "outputs": [
    {
     "data": {
      "image/png": "[encoded data removed]",
      "text/plain": [
       "<Figure size 640x480 with 1 Axes>"
      ]
     },
     "metadata": {},
     "output_type": "display_data"
    }
   ],
   "source": [
    "gameEnvironment = gym.make('CliffWalking-v0')\n",
    "maxEpisodes = 100\n",
    "maxT = 100\n",
    "beta = 1\n",
    "gamma = 1\n",
    "epsilon = 0.001\n",
    "\n",
    "QTable, episodeRewards = QLearning(gameEnvironment, maxEpisodes, maxT, gamma, beta, epsilon)\n",
    "windowSize = 10\n",
    "meanRewards, lastGame = getMeanRewardsForMultipleRuns(gameEnvironment, maxEpisodes, maxT, gamma, beta, epsilon, 50, windowSize)\n",
    "plotMeanRewards(meanRewards, maxEpisodes, windowSize)"
   ]
  },
  {
   "cell_type": "markdown",
   "metadata": {},
   "source": [
    "# Badanie wpływu parametrów beta i gamma na jakość działania algorytmu\n",
    "*W tabeli zostały przedstawione średnie wyniki z 50 iteracji algorytmu QLearning*"
   ]
  },
  {
   "cell_type": "markdown",
   "metadata": {},
   "source": [
    "| gamma | beta | 0-10    | 11-20  | 21-30  | 31-40  | 41-50  | 51-60  | 61-70  | 71-80  | 81-90  | 91-100 | ostateczny wynik |\n",
    "|-------|------|---------|--------|--------|--------|--------|--------|--------|--------|--------|--------|------------------|\n",
    "| 1     | 0.1  | -200.716 | -92.82 | -88.896 | -80.398 | -73.35  | -65.654 | -60.246 | -54.552 | -48.712 | -46.31111111 | -100.0 |\n",
    "| 1     | 0.2  | -196.902 | -88.504 | -69.836 | -57.19  | -48.818 | -40.366 | -35.496 | -31.454 | -28.852 | -26.02666667 | -88.02 |\n",
    "| 1     | 0.4  | -194.934 | -67.176 | -45.974 | -34.178 | -28.59  | -23.404 | -20.248 | -16.784 | -14.388 | -13.91555556 | -13.0 |\n",
    "| 1     | 0.7  | -186.584 | -47.906 | -28.696 | -21.916 | -16.646 | -13.272 | -13.474 | -13.648 | -13.214 | -13.02222222 | -13.0 |\n",
    "| 1     | 0.9  | -183.762 | -43.78  | -21.848 | -16.158 | -13.422 | -13.034 | -14.27  | -13.23  | -13.44  | -13.00666667 | -13.0 |\n",
    "| 1.5   | 0.9  | -181.146 | -41.344  | -48.424  | -87.232  | -85.064   | -136.93   | -92.976  | -108.806  | -95.582   | -88.14666667 | -71.5          |\n",
    "| 0.1   | 0.9  | -194.45  | -53.55  | -28.392 | -17.456 | -13.248 | -13.212 | -13.448 | -13.012 | -13.006 | -13.70888889 | -13.0 |\n",
    "| 0.01  | 0.9  | -201.752 | -79.67  | -99.794 | -99.966 | -99.756 | -99.75  | -100.   | -99.822 | -99.914 | -99.79111111 | -100.0 |\n",
    "| 0.05  | 0.9  | -199.276 | -62.71  | -30.192 | -20.326 | -13.458 | -13.222 | -13.874 | -13.416 | -13.024 | -13.03111111 | -13.0 |\n",
    "| 0.5   | 0.9  | -183.216 | -42.772 | -24.688 | -17.362 | -13.214 | -13.232 | -13.232 | -13.242 | -13.208 | -13.49555556 | -13.0 |\n",
    "| 0.9   | 0.9  | -184.51  | -43.352 | -22.944 | -15.36  | -13.012 | -13.016 | -13.656 | -13.438 | -13.87  | -13.26666667 | -13.0 |\n",
    "| 0.8   | 0.9  | -184.578 | -43.246 | -22.834 | -15.326 | -13.238 | -13.654 | -13.22  | -13.212 | -13.224 | -13.01111111 | -13.0 |"
   ]
  },
  {
   "cell_type": "markdown",
   "metadata": {},
   "source": [
    "# Komentarz do uzyskanych wyników\n",
    "Zbyt mała wartość parametru beta sprawia, że algorytm nie ma szans znaleźć optymalnego rozwiązania, przynajmniej dla takiej określonej liczby epok (100), przy jej zwiększeniu ostatecznie odnajduje rozwiązanie. Zbyt wysoki parametr beta również powoduje złe działanie algorytmu - znajdowane jest rozwiązanie nieoptymalne. Parametr gamma również nie może być zbyt mały, ponieważ przez to nie polepsza swoich wyników wraz kolejnymi epokami, a praktycznie stoi w miejscu, co ma sens, ponieważ ważność patrzenia w przyszłość przez algorytm. "
   ]
  },
  {
   "cell_type": "markdown",
   "metadata": {},
   "source": [
    "# Wnioski i ocena algorytmu\n",
    "Z powyższych eksperymentów wynika, że dobór parametrów ma kluczowy wpływ na jakość, a także prędkość działania. Algorytm dla tych parametrów i tego konkretnego agenta działa szybko, zakres ich poprawnych wartości jest dość szeroki, przez co ich szukanie nie sprawiało wielkich problemów. Ostatecznie sprawdza się dobrze, ponieważ w większości przypadków jego tablica Q zawierała optymalną strategie przejścia gry, czyli -13."
   ]
  },
  {
   "cell_type": "markdown",
   "metadata": {},
   "source": []
  }
 ],
 "metadata": {
  "kernelspec": {
   "display_name": "Python 3",
   "language": "python",
   "name": "python3"
  },
  "language_info": {
   "codemirror_mode": {
    "name": "ipython",
    "version": 3
   },
   "file_extension": ".py",
   "mimetype": "text/x-python",
   "name": "python",
   "nbconvert_exporter": "python",
   "pygments_lexer": "ipython3",
   "version": "3.8.10"
  }
 },
 "nbformat": 4,
 "nbformat_minor": 2
}
