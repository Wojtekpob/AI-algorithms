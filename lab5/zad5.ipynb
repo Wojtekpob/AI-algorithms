{
 "cells": [
  {
   "cell_type": "code",
   "execution_count": 2,
   "metadata": {},
   "outputs": [],
   "source": [
    "import gymnasium as gym\n",
    "import numpy as np\n"
   ]
  },
  {
   "cell_type": "markdown",
   "metadata": {},
   "source": [
    "- gamma - dyskont (0;1) - im bliższy 1 tym większą wagę mają odległe w czasie nagrody\n",
    "- beta - szybkość uczenia (z czasem zmniejszana)"
   ]
  },
  {
   "cell_type": "code",
   "execution_count": 22,
   "metadata": {},
   "outputs": [],
   "source": [
    "def QLearning(gameEnvironment, maxEpisodes, maxT, gamma, beta, epsilon):\n",
    "    QTable = np.zeros((gameEnvironment.observation_space.n, gameEnvironment.action_space.n))\n",
    "    \n",
    "    episode=0\n",
    "    episodeRewards = []\n",
    "    while episode < maxEpisodes:\n",
    "        currentSpace = gameEnvironment.reset()[0]\n",
    "        episodeRewards.append(0)\n",
    "        t = 0\n",
    "        while t < maxT:\n",
    "            if np.random.uniform(0,1) < epsilon:\n",
    "                action = gameEnvironment.action_space.sample()\n",
    "            else:\n",
    "                action = np.argmax(QTable[currentSpace, :])\n",
    "            nextSpace, reward, isEndState, _, _= gameEnvironment.step(action)\n",
    "            episodeRewards[episode] += reward\n",
    "\n",
    "            \n",
    "            QTable[currentSpace, action] = QTable[currentSpace, action] + beta * (reward + gamma * np.max(QTable[nextSpace, :]) - QTable[currentSpace, action])\n",
    "            currentSpace = nextSpace\n",
    "            if isEndState:\n",
    "                break\n",
    "            t+=1\n",
    "        if episode % 1000 == 0:\n",
    "            print(episode)\n",
    "        episode+=1\n",
    "        epsilon = max(0.01, np.exp(-0.001*episode))\n",
    "        # beta = max(0,beta - 0.0001)\n",
    "\n",
    "    return QTable, episodeRewards\n",
    "            \n",
    "            "
   ]
  },
  {
   "cell_type": "code",
   "execution_count": 25,
   "metadata": {},
   "outputs": [
    {
     "name": "stdout",
     "output_type": "stream",
     "text": [
      "0\n",
      "1000\n",
      "2000\n",
      "3000\n",
      "4000\n",
      "5000\n",
      "6000\n",
      "7000\n",
      "8000\n",
      "9000\n",
      "10000\n",
      "11000\n",
      "12000\n",
      "13000\n",
      "14000\n",
      "15000\n",
      "16000\n",
      "17000\n",
      "18000\n",
      "19000\n",
      "20000\n",
      "21000\n",
      "22000\n",
      "23000\n",
      "24000\n",
      "25000\n",
      "26000\n",
      "27000\n",
      "28000\n",
      "29000\n",
      "30000\n",
      "31000\n",
      "32000\n",
      "33000\n",
      "34000\n",
      "35000\n",
      "36000\n",
      "37000\n",
      "38000\n",
      "39000\n",
      "40000\n",
      "41000\n",
      "42000\n",
      "43000\n",
      "44000\n",
      "45000\n",
      "46000\n",
      "47000\n",
      "48000\n",
      "49000\n",
      "50000\n",
      "51000\n",
      "52000\n",
      "53000\n",
      "54000\n",
      "55000\n",
      "56000\n",
      "57000\n",
      "58000\n",
      "59000\n",
      "60000\n",
      "61000\n",
      "62000\n",
      "63000\n",
      "64000\n",
      "65000\n",
      "66000\n",
      "67000\n",
      "68000\n",
      "69000\n",
      "70000\n",
      "71000\n",
      "72000\n",
      "73000\n",
      "74000\n",
      "75000\n",
      "76000\n",
      "77000\n",
      "78000\n",
      "79000\n",
      "80000\n",
      "81000\n",
      "82000\n",
      "83000\n",
      "84000\n",
      "85000\n",
      "86000\n",
      "87000\n",
      "88000\n",
      "89000\n",
      "90000\n",
      "91000\n",
      "92000\n",
      "93000\n",
      "94000\n",
      "95000\n",
      "96000\n",
      "97000\n",
      "98000\n",
      "99000\n"
     ]
    }
   ],
   "source": [
    "gameEnvironment = gym.make('CliffWalking-v0')\n",
    "maxEpisodes = 10000\n",
    "maxT = 100\n",
    "\n",
    "QTable, episodeRewards = QLearning(gameEnvironment, maxEpisodes, maxT, 0.9, 0.1, 1)\n"
   ]
  },
  {
   "cell_type": "code",
   "execution_count": 27,
   "metadata": {},
   "outputs": [
    {
     "name": "stdout",
     "output_type": "stream",
     "text": [
      "-86.212\n",
      "-16.002\n",
      "-16.0711\n",
      "-16.1622\n",
      "-16.2366\n",
      "-16.3057\n",
      "-15.9961\n",
      "-16.3022\n",
      "-16.2232\n",
      "-16.3398\n"
     ]
    }
   ],
   "source": [
    "# print(QTable)\n",
    "for i in range(10):\n",
    "    print(np.mean(episodeRewards[i*1000:(i+1)*1000]))"
   ]
  },
  {
   "cell_type": "code",
   "execution_count": null,
   "metadata": {},
   "outputs": [],
   "source": []
  }
 ],
 "metadata": {
  "kernelspec": {
   "display_name": "Python 3",
   "language": "python",
   "name": "python3"
  },
  "language_info": {
   "codemirror_mode": {
    "name": "ipython",
    "version": 3
   },
   "file_extension": ".py",
   "mimetype": "text/x-python",
   "name": "python",
   "nbconvert_exporter": "python",
   "pygments_lexer": "ipython3",
   "version": "3.8.10"
  }
 },
 "nbformat": 4,
 "nbformat_minor": 2
}
