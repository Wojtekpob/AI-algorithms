{
 "cells": [
  {
   "cell_type": "code",
   "execution_count": 3,
   "metadata": {},
   "outputs": [],
   "source": [
    "import gymnasium as gym\n",
    "import numpy as np\n"
   ]
  },
  {
   "cell_type": "code",
   "execution_count": null,
   "metadata": {},
   "outputs": [],
   "source": [
    "def selectAction(Q, )"
   ]
  },
  {
   "cell_type": "markdown",
   "metadata": {},
   "source": [
    "- gamma - dyskont (0;1) - im bliższy 1 tym większą wagę mają odległe w czasie nagrody\n",
    "- beta - szybkość uczenia (z czasem zmniejszana)"
   ]
  },
  {
   "cell_type": "code",
   "execution_count": 81,
   "metadata": {},
   "outputs": [],
   "source": [
    "def QLearning(gameEnvironment, maxEpisodes, maxT, gamma, beta, epsilon):\n",
    "    QTable = np.zeros((gameEnvironment.observation_space.n, gameEnvironment.action_space.n))\n",
    "    \n",
    "    episode=0\n",
    "    episodeRewards = []\n",
    "    while episode < maxEpisodes:\n",
    "        currentSpace = gameEnvironment.reset()[0]\n",
    "        episodeRewards.append(0)\n",
    "        t = 0\n",
    "        while t < maxT:\n",
    "            if np.random.uniform(0,1) < epsilon:\n",
    "                action = gameEnvironment.action_space.sample()\n",
    "            else:\n",
    "                action = np.argmax(QTable[currentSpace, :])\n",
    "            nextSpace, reward, isEndState, _, _= gameEnvironment.step(action)\n",
    "            episodeRewards[episode] += reward\n",
    "\n",
    "\n",
    "            QTable[currentSpace, action] = QTable[currentSpace, action] + beta * (reward + gamma * np.max(QTable[nextSpace, :]) - QTable[currentSpace, action])\n",
    "            currentSpace = nextSpace\n",
    "            if isEndState:\n",
    "                break\n",
    "            t+=1\n",
    "        episode+=1\n",
    "\n",
    "    return QTable, episodeRewards\n",
    "            \n",
    "            "
   ]
  },
  {
   "cell_type": "code",
   "execution_count": 82,
   "metadata": {},
   "outputs": [
    {
     "name": "stdout",
     "output_type": "stream",
     "text": [
      "0\n",
      "1000\n",
      "2000\n",
      "3000\n",
      "4000\n",
      "5000\n",
      "6000\n",
      "7000\n",
      "8000\n",
      "9000\n"
     ]
    }
   ],
   "source": [
    "gameEnvironment = gym.make('CliffWalking-v0')\n",
    "maxEpisodes = 10000\n",
    "maxT = 100\n",
    "\n",
    "QTable, episodeRewards = QLearning(gameEnvironment, maxEpisodes, maxT, 0.7, 0.01, 0.001)\n"
   ]
  },
  {
   "cell_type": "code",
   "execution_count": 83,
   "metadata": {},
   "outputs": [
    {
     "name": "stdout",
     "output_type": "stream",
     "text": [
      "-80.524\n",
      "-37.384\n",
      "-22.177\n",
      "-15.084\n",
      "-13.251\n",
      "-13.549\n",
      "-13.242\n",
      "-13.767\n",
      "-13.336\n",
      "-13.331\n"
     ]
    }
   ],
   "source": [
    "# print(QTable)\n",
    "for i in range(10):\n",
    "    print(np.mean(episodeRewards[i*1000:(i+1)*1000]))"
   ]
  },
  {
   "cell_type": "code",
   "execution_count": null,
   "metadata": {},
   "outputs": [],
   "source": []
  }
 ],
 "metadata": {
  "kernelspec": {
   "display_name": "Python 3",
   "language": "python",
   "name": "python3"
  },
  "language_info": {
   "codemirror_mode": {
    "name": "ipython",
    "version": 3
   },
   "file_extension": ".py",
   "mimetype": "text/x-python",
   "name": "python",
   "nbconvert_exporter": "python",
   "pygments_lexer": "ipython3",
   "version": "3.8.10"
  }
 },
 "nbformat": 4,
 "nbformat_minor": 2
}
