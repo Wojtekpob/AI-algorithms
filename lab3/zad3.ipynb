{
 "cells": [
  {
   "cell_type": "code",
   "execution_count": 127,
   "metadata": {},
   "outputs": [],
   "source": [
    "import numpy as np\n",
    "import matplotlib.pyplot as plt\n",
    "import random"
   ]
  },
  {
   "cell_type": "code",
   "execution_count": 128,
   "metadata": {},
   "outputs": [],
   "source": [
    "class TokenGameState:\n",
    "    def __init__(self, tokens, maximizingPlayer):\n",
    "        self._tokens = tokens\n",
    "        self._maximizingPlayer = maximizingPlayer\n",
    "\n",
    "    def getTokens(self):\n",
    "        return self._tokens\n",
    "    def getMaximizingPlayer(self):\n",
    "        return self._maximizingPlayer"
   ]
  },
  {
   "cell_type": "code",
   "execution_count": 151,
   "metadata": {},
   "outputs": [],
   "source": [
    "class TokenGameHandler:\n",
    "\n",
    "    def __init__(self,k):\n",
    "        self._k = k\n",
    "\n",
    "    def getK(self):\n",
    "        return self._k\n",
    "\n",
    "    def isWinning(self, tokens):\n",
    "        if (tokens-1)%(self.getK()+1)==0:\n",
    "            return False\n",
    "        else:\n",
    "            return True\n",
    "\n",
    "    def getOffsprings(self, state, maximizingPlayer):\n",
    "        offsprings = []\n",
    "        for i in range(self.getK()):\n",
    "            if state.getTokens()-i < 1:\n",
    "                continue\n",
    "            offsprings.append(TokenGameState(state.getTokens()-i, maximizingPlayer))\n",
    "        return offsprings\n",
    "\n",
    "    def evaluate(self, state):\n",
    "        if self.isWinning(state.getTokens()):\n",
    "            if state.getMaximizingPlayer():\n",
    "                return 1\n",
    "            else:\n",
    "                return -1\n",
    "        else:\n",
    "            if state.getMaximizingPlayer():\n",
    "                return -1\n",
    "            else:\n",
    "                return 1\n",
    "\n",
    "    def isEndState(self,state):\n",
    "        return state.getTokens() !=1\n",
    "\n"
   ]
  },
  {
   "cell_type": "code",
   "execution_count": 152,
   "metadata": {},
   "outputs": [],
   "source": [
    "def isWinning(tokens,k):\n",
    "    if (tokens-1)%(k+1)==0:\n",
    "        return False\n",
    "    else:\n",
    "        return True"
   ]
  },
  {
   "cell_type": "code",
   "execution_count": 153,
   "metadata": {},
   "outputs": [],
   "source": [
    "def evaluateState(tokens, k, maximizingPlayer):\n",
    "    if isWinning(tokens,k):\n",
    "        if maximizingPlayer:\n",
    "            return 1\n",
    "        else:\n",
    "            return -1\n",
    "    else:\n",
    "        if maximizingPlayer:\n",
    "            return -1\n",
    "        else:\n",
    "            return 1"
   ]
  },
  {
   "cell_type": "code",
   "execution_count": 154,
   "metadata": {},
   "outputs": [],
   "source": [
    "# def minimaxAlfaBeta(tokens, k, depth, alpha, beta, maximizingPlayer):\n",
    "#     if depth == 0 or tokens == 1:\n",
    "#         return evaluateState(tokens, k, maximizingPlayer)\n",
    "#     if maximizingPlayer:\n",
    "#         for i in range(k):\n",
    "#             if tokens - i < 1:\n",
    "#                 continue\n",
    "#             alpha = max(alpha, minimaxAlfaBeta(tokens-i, k, depth-1, alpha, beta, False))\n",
    "#             if alpha >= beta:\n",
    "#                 return beta\n",
    "#             return alpha\n",
    "#     else:\n",
    "#         for i in range(k):\n",
    "#             if tokens - i < 1:\n",
    "#                 continue\n",
    "#             beta = min(beta, minimaxAlfaBeta(tokens-i, k, depth-1, alpha, beta, True))\n",
    "#             if alpha >= beta:\n",
    "#                 return alpha\n",
    "#             return beta\n"
   ]
  },
  {
   "cell_type": "code",
   "execution_count": 155,
   "metadata": {},
   "outputs": [
    {
     "name": "stdout",
     "output_type": "stream",
     "text": [
      "1\n"
     ]
    }
   ],
   "source": [
    "# print(minimaxAlfaBeta(15,2,4,-10,10,True))"
   ]
  },
  {
   "cell_type": "code",
   "execution_count": 156,
   "metadata": {},
   "outputs": [],
   "source": [
    "def minimaxAlfaBeta2(state, depth, alpha, beta, maximizingPlayer, gameHandler):\n",
    "    if depth == 0 or gameHandler.isEndState(state):\n",
    "        return gameHandler.evaluate(state)\n",
    "    if maximizingPlayer:\n",
    "        for offspring in gameHandler.getOffsprings(state, maximizingPlayer):\n",
    "            alpha = max(alpha, minimaxAlfaBeta2(offspring, depth-1, alpha, beta, False, gameHandler))\n",
    "            if alpha >= beta:\n",
    "                return beta\n",
    "            return alpha\n",
    "    else:\n",
    "        for offspring in gameHandler.getOffsprings(state, maximizingPlayer):\n",
    "            beta = min(beta, minimaxAlfaBeta2(offspring, depth-1, alpha, beta, True, gameHandler))\n",
    "            if alpha >= beta:\n",
    "                return alpha\n",
    "            return beta"
   ]
  },
  {
   "cell_type": "code",
   "execution_count": 164,
   "metadata": {},
   "outputs": [
    {
     "name": "stdout",
     "output_type": "stream",
     "text": [
      "-1\n"
     ]
    }
   ],
   "source": [
    "tokens = 16\n",
    "k = 4\n",
    "depth = 4\n",
    "state = TokenGameState(tokens, True)\n",
    "tokenGameHandler = TokenGameHandler(k)\n",
    "print(minimaxAlfaBeta2(state,depth,-10,10,True, tokenGameHandler))"
   ]
  },
  {
   "cell_type": "code",
   "execution_count": null,
   "metadata": {},
   "outputs": [],
   "source": []
  },
  {
   "cell_type": "code",
   "execution_count": null,
   "metadata": {},
   "outputs": [],
   "source": []
  }
 ],
 "metadata": {
  "kernelspec": {
   "display_name": "base",
   "language": "python",
   "name": "python3"
  },
  "language_info": {
   "codemirror_mode": {
    "name": "ipython",
    "version": 3
   },
   "file_extension": ".py",
   "mimetype": "text/x-python",
   "name": "python",
   "nbconvert_exporter": "python",
   "pygments_lexer": "ipython3",
   "version": "3.9.13"
  }
 },
 "nbformat": 4,
 "nbformat_minor": 2
}
