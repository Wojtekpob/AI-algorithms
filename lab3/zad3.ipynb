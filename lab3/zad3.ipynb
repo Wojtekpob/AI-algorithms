{
 "cells": [
  {
   "cell_type": "code",
   "execution_count": 1,
   "metadata": {},
   "outputs": [],
   "source": [
    "import numpy as np\n",
    "import matplotlib.pyplot as plt\n",
    "import random"
   ]
  },
  {
   "cell_type": "code",
   "execution_count": 2,
   "metadata": {},
   "outputs": [],
   "source": [
    "class TokenGameState:\n",
    "    def __init__(self, tokens, maximizingPlayer):\n",
    "        self._tokens = tokens\n",
    "        self._maximizingPlayer = maximizingPlayer\n",
    "\n",
    "    def getTokens(self):\n",
    "        return self._tokens\n",
    "    def getMaximizingPlayer(self):\n",
    "        return self._maximizingPlayer"
   ]
  },
  {
   "cell_type": "code",
   "execution_count": 3,
   "metadata": {},
   "outputs": [],
   "source": [
    "class TokenGameStateRandomEvaluator:\n",
    "    def evaluate(self,state):\n",
    "        return random.choice([-2, -1, 1, 2])"
   ]
  },
  {
   "cell_type": "code",
   "execution_count": 4,
   "metadata": {},
   "outputs": [],
   "source": [
    "class TokenGameStateEvaluator:\n",
    "    def __init__(self,k):\n",
    "        self._k = k\n",
    "\n",
    "    def getK(self):\n",
    "        return self._k\n",
    "\n",
    "    def isWinning(self, tokens):\n",
    "        if (tokens-1)%(self.getK()+1)==0:\n",
    "            return False\n",
    "        else:\n",
    "            return True\n",
    "        \n",
    "\n",
    "\n",
    "    def evaluate(self,state):\n",
    "        if self.isWinning(state.getTokens()):\n",
    "            if state.getMaximizingPlayer():\n",
    "                return 1\n",
    "            else:\n",
    "                return -1\n",
    "        else:\n",
    "            if state.getMaximizingPlayer():\n",
    "                return -1\n",
    "            else:\n",
    "                return 1"
   ]
  },
  {
   "cell_type": "code",
   "execution_count": 5,
   "metadata": {},
   "outputs": [],
   "source": [
    "class TokenGameHandler:\n",
    "\n",
    "    def __init__(self,k, evaluator):\n",
    "        self._k = k\n",
    "        self._evaluator = evaluator\n",
    "\n",
    "    def getK(self):\n",
    "        return self._k\n",
    "    \n",
    "    def getEvaluator(self):\n",
    "        return self._evaluator\n",
    "\n",
    "    # def isWinning(self, tokens):\n",
    "    #     if (tokens-1)%(self.getK()+1)==0:\n",
    "    #         return False\n",
    "    #     else:\n",
    "    #         return True\n",
    "\n",
    "    def getOffsprings(self, state, maximizingPlayer):\n",
    "        offsprings = []\n",
    "        for i in range(1,self.getK()+1):\n",
    "            if state.getTokens()-i < 1:\n",
    "                continue\n",
    "            offsprings.append(TokenGameState(state.getTokens()-i, not maximizingPlayer))\n",
    "        return offsprings\n",
    "\n",
    "    def evaluate(self, state):\n",
    "        return self.getEvaluator().evaluate(state)\n",
    "        # if self.isWinning(state.getTokens()):\n",
    "        #     if state.getMaximizingPlayer():\n",
    "        #         return 1\n",
    "        #     else:\n",
    "        #         return -1\n",
    "        # else:\n",
    "        #     if state.getMaximizingPlayer():\n",
    "        #         return -1\n",
    "        #     else:\n",
    "        #         return 1\n",
    "\n",
    "    def isEndState(self,state):\n",
    "        return state.getTokens() ==1\n",
    "\n"
   ]
  },
  {
   "cell_type": "code",
   "execution_count": 6,
   "metadata": {},
   "outputs": [],
   "source": [
    "# def isWinning(tokens,k):\n",
    "#     if (tokens-1)%(k+1)==0:\n",
    "#         return False\n",
    "#     else:\n",
    "#         return True"
   ]
  },
  {
   "cell_type": "code",
   "execution_count": 7,
   "metadata": {},
   "outputs": [],
   "source": [
    "# def evaluateState(tokens, k, maximizingPlayer):\n",
    "#     if isWinning(tokens,k):\n",
    "#         if maximizingPlayer:\n",
    "#             return 1\n",
    "#         else:\n",
    "#             return -1\n",
    "#     else:\n",
    "#         if maximizingPlayer:\n",
    "#             return -1\n",
    "#         else:\n",
    "#             return 1"
   ]
  },
  {
   "cell_type": "code",
   "execution_count": 8,
   "metadata": {},
   "outputs": [],
   "source": [
    "# def minimaxAlfaBeta2(state, depth, alpha, beta, maximizingPlayer, gameHandler):\n",
    "#     if depth == 0 or gameHandler.isEndState(state):\n",
    "#         return gameHandler.evaluate(state)\n",
    "#     if maximizingPlayer:\n",
    "#         maxValue = -np.inf\n",
    "#         for offspring in gameHandler.getOffsprings(state, maximizingPlayer):\n",
    "#             value = minimaxAlfaBeta2(offspring,depth-1,alpha,beta,False,gameHandler)\n",
    "#             maxValue = max(maxValue,value)\n",
    "#             alpha = max(alpha,value)\n",
    "#             # alpha = max(alpha, minimaxAlfaBeta2(offspring, depth-1, alpha, beta, False, gameHandler))\n",
    "#             # if alpha >= beta:\n",
    "#             #     return beta\n",
    "#             if beta <= alpha:\n",
    "#                 break\n",
    "#         return maxValue\n",
    "#     else:\n",
    "#         minValue = np.inf\n",
    "#         for offspring in gameHandler.getOffsprings(state, maximizingPlayer):\n",
    "#             value = minimaxAlfaBeta2(offspring,depth-1,alpha,beta,True,gameHandler)\n",
    "#             minValue = min(minValue,value)\n",
    "#             beta = min(beta,value)\n",
    "#             if beta <=alpha:\n",
    "#                 break\n",
    "#         return minValue\n",
    "#             # beta = min(beta, minimaxAlfaBeta2(offspring, depth-1, alpha, beta, True, gameHandler))\n",
    "#             # if alpha >= beta:\n",
    "#             #     return alpha\n",
    "#         # return beta"
   ]
  },
  {
   "cell_type": "code",
   "execution_count": 9,
   "metadata": {},
   "outputs": [],
   "source": [
    "def minimaxAlfaBeta2(state, depth, alpha, beta, maximizingPlayer, gameHandler):\n",
    "    if depth == 0 or gameHandler.isEndState(state):\n",
    "        return gameHandler.evaluate(state)\n",
    "    if maximizingPlayer:\n",
    "        for offspring in gameHandler.getOffsprings(state, maximizingPlayer):\n",
    "            alpha = max(alpha, minimaxAlfaBeta2(offspring, depth-1, alpha, beta, False, gameHandler))\n",
    "            if alpha >= beta:\n",
    "                return beta\n",
    "        return alpha\n",
    "    else:\n",
    "        for offspring in gameHandler.getOffsprings(state, maximizingPlayer):\n",
    "            beta = min(beta, minimaxAlfaBeta2(offspring, depth-1, alpha, beta, True, gameHandler))\n",
    "            if alpha >= beta:\n",
    "                return alpha\n",
    "        return beta"
   ]
  },
  {
   "cell_type": "code",
   "execution_count": 10,
   "metadata": {},
   "outputs": [],
   "source": [
    "def launchMinimax(tokens,k,depth,randomEvaluator=False):\n",
    "    \n",
    "    state = TokenGameState(tokens, True)\n",
    "    if randomEvaluator:\n",
    "        tokenGameStateEvaluator = TokenGameStateRandomEvaluator()\n",
    "    else:    \n",
    "        tokenGameStateEvaluator = TokenGameStateEvaluator(k)\n",
    "    tokenGameHandler = TokenGameHandler(k,tokenGameStateEvaluator)\n",
    "    return minimaxAlfaBeta2(state,depth,-10,10,True, tokenGameHandler)"
   ]
  },
  {
   "cell_type": "code",
   "execution_count": 25,
   "metadata": {},
   "outputs": [],
   "source": [
    "def randomLaunchMinimax(minTokens,maxTokens,minK,maxK,depth,randomEvaluator=False):\n",
    "    tokens = random.randint(minTokens,maxTokens)\n",
    "    k = random.randint(minK,maxK)\n",
    "    return launchMinimax(tokens,k,depth,randomEvaluator)"
   ]
  },
  {
   "cell_type": "code",
   "execution_count": 23,
   "metadata": {},
   "outputs": [
    {
     "name": "stdout",
     "output_type": "stream",
     "text": [
      "-1\n"
     ]
    }
   ],
   "source": [
    "tokens = 10\n",
    "k = 2\n",
    "depth = 2\n",
    "print(launchMinimax(tokens,k,depth))"
   ]
  },
  {
   "cell_type": "code",
   "execution_count": 21,
   "metadata": {},
   "outputs": [
    {
     "name": "stdout",
     "output_type": "stream",
     "text": [
      "1\n",
      "tokens: 20, k: 5\n"
     ]
    }
   ],
   "source": [
    "tokens = random.randint(10,20)\n",
    "k = random.randint(2,5)\n",
    "depth = 2\n",
    "print(launchMinimax(tokens,k,depth))\n",
    "print(f'tokens: {tokens}, k: {k}')"
   ]
  },
  {
   "cell_type": "code",
   "execution_count": 33,
   "metadata": {},
   "outputs": [
    {
     "data": {
      "image/png": "[encoded data removed]",
      "text/plain": [
       "<Figure size 640x480 with 1 Axes>"
      ]
     },
     "metadata": {},
     "output_type": "display_data"
    }
   ],
   "source": [
    "\n",
    "def run_launchMinimax(minTokens,maxTokens,minK,maxK,depth):\n",
    "    results = []\n",
    "    for _ in range(100):\n",
    "        result = randomLaunchMinimax(minTokens,maxTokens,minK,maxK,depth)\n",
    "        results.append(result)\n",
    "    \n",
    "    unique_values, frequencies = np.unique(results, return_counts=True)\n",
    "    \n",
    "    plt.bar(unique_values, frequencies)\n",
    "    plt.xlabel('Response')\n",
    "    plt.ylabel('Frequency')\n",
    "    plt.title('Frequency of Responses')\n",
    "    plt.show()\n",
    "\n",
    "\n",
    "\n",
    "minTokens = 10\n",
    "maxTokens = 20\n",
    "minK = 9\n",
    "maxK = 10\n",
    "depth = 2\n",
    "run_launchMinimax(minTokens,maxTokens,minK,maxK,depth)\n"
   ]
  },
  {
   "cell_type": "code",
   "execution_count": null,
   "metadata": {},
   "outputs": [],
   "source": []
  }
 ],
 "metadata": {
  "kernelspec": {
   "display_name": "base",
   "language": "python",
   "name": "python3"
  },
  "language_info": {
   "codemirror_mode": {
    "name": "ipython",
    "version": 3
   },
   "file_extension": ".py",
   "mimetype": "text/x-python",
   "name": "python",
   "nbconvert_exporter": "python",
   "pygments_lexer": "ipython3",
   "version": "3.10.12"
  }
 },
 "nbformat": 4,
 "nbformat_minor": 2
}
