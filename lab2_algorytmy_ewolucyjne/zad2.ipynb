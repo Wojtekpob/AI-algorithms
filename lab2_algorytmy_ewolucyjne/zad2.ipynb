{
 "cells": [
  {
   "cell_type": "code",
   "execution_count": 1,
   "metadata": {},
   "outputs": [],
   "source": [
    "import numpy as np\n",
    "import matplotlib.pyplot as plt\n",
    "import random"
   ]
  },
  {
   "cell_type": "code",
   "execution_count": 2,
   "metadata": {},
   "outputs": [],
   "source": [
    "def f1(x1,y1):\n",
    "    return (x1**2+y1-11)**2+(x1+y1**2-7)**2\n",
    "def f2(x2,y2):\n",
    "    return 2*x2**2+1.05*x2**4+x2**6/6+x2*y2+y2**2\n",
    "\n",
    "def sumF1F2(chromosome):\n",
    "    x1,y1,x2,y2 = chromosome\n",
    "    return f1(x1,y1)+f2(x2,y2)"
   ]
  },
  {
   "cell_type": "code",
   "execution_count": 6,
   "metadata": {},
   "outputs": [],
   "source": [
    "def gaussMutation(chromosome, sigma):\n",
    "    for i in range(len(chromosome)):\n",
    "        chromosome[i] = chromosome[i] + np.random.normal(0, sigma)\n",
    "\n",
    "    return chromosome\n"
   ]
  },
  {
   "cell_type": "code",
   "execution_count": 7,
   "metadata": {},
   "outputs": [],
   "source": [
    "def singlePointCrossBreeding(chromosome1, chromosome2):\n",
    "    point = random.randint(0, len(chromosome1)-1)\n",
    "    return np.concatenate((chromosome1[:point], chromosome2[point:]), axis=None)"
   ]
  },
  {
   "cell_type": "code",
   "execution_count": null,
   "metadata": {},
   "outputs": [],
   "source": [
    "def drawPopulation(size, D):\n",
    "    population = []\n",
    "    for _ in range(size):\n",
    "        population.append(np.random.uniform(D[0], D[1], 4))\n",
    "    return population"
   ]
  },
  {
   "cell_type": "code",
   "execution_count": 4,
   "metadata": {},
   "outputs": [
    {
     "name": "stdout",
     "output_type": "stream",
     "text": [
      "170.0\n"
     ]
    }
   ],
   "source": [
    "def evolutionAlgorithm(maxIterations):\n",
    "    iterations = 0\n",
    "    while iterations < maxIterations:\n",
    "        pass"
   ]
  },
  {
   "cell_type": "code",
   "execution_count": null,
   "metadata": {},
   "outputs": [],
   "source": []
  }
 ],
 "metadata": {
  "kernelspec": {
   "display_name": "base",
   "language": "python",
   "name": "python3"
  },
  "language_info": {
   "codemirror_mode": {
    "name": "ipython",
    "version": 3
   },
   "file_extension": ".py",
   "mimetype": "text/x-python",
   "name": "python",
   "nbconvert_exporter": "python",
   "pygments_lexer": "ipython3",
   "version": "3.9.13"
  }
 },
 "nbformat": 4,
 "nbformat_minor": 2
}
