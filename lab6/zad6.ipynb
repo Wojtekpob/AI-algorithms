{
 "cells": [
  {
   "cell_type": "code",
   "execution_count": 198,
   "metadata": {},
   "outputs": [],
   "source": [
    "import numpy as np\n",
    "import math\n",
    "import matplotlib.pyplot as plt"
   ]
  },
  {
   "cell_type": "code",
   "execution_count": 199,
   "metadata": {},
   "outputs": [],
   "source": [
    "def splitData(data, ratio):\n",
    "    np.random.shuffle(data)\n",
    "    train_size = int(len(data) * ratio)\n",
    "    train_set = data[:train_size]\n",
    "    test_set = data[train_size:]\n",
    "    return train_set, test_set"
   ]
  },
  {
   "cell_type": "code",
   "execution_count": 200,
   "metadata": {},
   "outputs": [],
   "source": [
    "def timeToMinutes(time):\n",
    "    splitted = time.split(\":\")\n",
    "    if int(splitted[0]) > 23 or int(splitted[1]) > 59:\n",
    "        raise ValueError\n",
    "    return int(splitted[0]) * 60 + int(splitted[1])"
   ]
  },
  {
   "cell_type": "code",
   "execution_count": 201,
   "metadata": {},
   "outputs": [],
   "source": [
    "def processTime(time):\n",
    "    minutes = timeToMinutes(time)\n",
    "    return  math.sin(minutes / (24 * 60)*math.pi)"
   ]
  },
  {
   "cell_type": "code",
   "execution_count": 202,
   "metadata": {},
   "outputs": [],
   "source": [
    "def loadData(codesToIndexes):\n",
    "    data = []\n",
    "    for i in range(1, 70):\n",
    "        filePrefix = 'Diabetes-Data/data-'\n",
    "        if i < 10:\n",
    "            filePrefix += '0'\n",
    "        fileHandle = open(filePrefix+str(i), 'r')\n",
    "        for line in fileHandle:\n",
    "            line = line.strip()\n",
    "            if line:\n",
    "                try:\n",
    "                    parts = line.split('\\t')\n",
    "                    time = processTime(parts[1])\n",
    "                    code = int(parts[2])\n",
    "                    if code not in codesToIndexes.keys():\n",
    "                        raise ValueError\n",
    "                    number = int(parts[3])\n",
    "                    data.append([time, code, number])\n",
    "                except ValueError:\n",
    "                    pass\n",
    "                except IndexError:\n",
    "                    pass\n",
    "        \n",
    "        fileHandle.close()\n",
    "    return data\n"
   ]
  },
  {
   "cell_type": "code",
   "execution_count": 203,
   "metadata": {},
   "outputs": [],
   "source": [
    "codesToIndexes = {33:0, 34:1, 35:2, 48:3, 57:4, 58:5, 59:6, 60:7, 61:8, 62:9, 63:10, 64:11, 65:12, 66:13, 67:14, 68:15, 69:16, 70:17, 71:18, 72:19}\n",
    "data = np.array(loadData(codesToIndexes))\n",
    "data, test = splitData(data, 0.8)\n",
    "# print(processTime(\"00:00\"))\n",
    "# print(processTime(\"12:00\"))\n",
    "# 33 = Regular insulin dose\n",
    "# 34 = NPH insulin dose\n",
    "# 35 = UltraLente insulin dose\n",
    "# 48 = Unspecified blood glucose measurement\n",
    "# 57 = Unspecified blood glucose measurement\n",
    "# 58 = Pre-breakfast blood glucose measurement\n",
    "# 59 = Post-breakfast blood glucose measurement\n",
    "# 60 = Pre-lunch blood glucose measurement\n",
    "# 61 = Post-lunch blood glucose measurement\n",
    "# 62 = Pre-supper blood glucose measurement\n",
    "# 63 = Post-supper blood glucose measurement\n",
    "# 64 = Pre-snack blood glucose measurement\n",
    "# 65 = Hypoglycemic symptoms\n",
    "# 66 = Typical meal ingestion\n",
    "# 67 = More-than-usual meal ingestion\n",
    "# 68 = Less-than-usual meal ingestion\n",
    "# 69 = Typical exercise activity\n",
    "# 70 = More-than-usual exercise activity\n",
    "# 71 = Less-than-usual exercise activity\n",
    "# 72 = Unspecified special event\n",
    "X = data[:, [0, 2]]\n",
    "X_test = test[:, [0, 2]]\n",
    "# X = data[:, [2]]\n",
    "Y = data[:, 1]\n",
    "Y_test = test[:, 1]\n",
    "Y_encoded = np.zeros((Y.shape[0], 20))\n",
    "Y_test_encoded = np.zeros((Y_test.shape[0], 20))\n",
    "for i, code in enumerate(Y):\n",
    "    index = codesToIndexes[code]\n",
    "    Y_encoded[i, index] = 1\n",
    "for i, code in enumerate(Y_test):\n",
    "    index = codesToIndexes[code]\n",
    "    Y_test_encoded[i, index] = 1"
   ]
  },
  {
   "cell_type": "code",
   "execution_count": 204,
   "metadata": {},
   "outputs": [],
   "source": [
    "def initializeParameters(nX, nH, nY):\n",
    "    W1 = np.random.randn(nX, nH)\n",
    "    b1 = np.zeros((1,nH))\n",
    "    b1 = np.random.randn(1,nH)\n",
    "    W2 = np.random.randn(nH,nY)\n",
    "    b2 = np.zeros((1,nY))\n",
    "    b2 = np.random.randn(1,nY)\n",
    "    parameters = {\"W1\": W1, \"b1\": b1, \"W2\": W2, \"b2\": b2}\n",
    "    return parameters"
   ]
  },
  {
   "cell_type": "code",
   "execution_count": 205,
   "metadata": {},
   "outputs": [],
   "source": [
    "def costFunction(Y, Y_hat):\n",
    "    n = Y.shape[0]\n",
    "    return - np.sum(Y * np.log(Y_hat))\n"
   ]
  },
  {
   "cell_type": "code",
   "execution_count": 206,
   "metadata": {},
   "outputs": [],
   "source": [
    "def sigmoid(Z):\n",
    "    return 1 / (1 + np.exp(-Z))"
   ]
  },
  {
   "cell_type": "code",
   "execution_count": 207,
   "metadata": {},
   "outputs": [],
   "source": [
    "def softmax(Z):\n",
    "    return np.exp(Z) / np.sum(np.exp(Z), axis=1, keepdims=True)"
   ]
  },
  {
   "cell_type": "code",
   "execution_count": 208,
   "metadata": {},
   "outputs": [],
   "source": [
    "def propagate(X, Y, W1, b1, W2, b2):\n",
    "    Z1 = np.dot(X, W1) + b1\n",
    "    A1 = sigmoid(Z1)\n",
    "    Z2 = np.dot(A1, W2) + b2\n",
    "    A2 = softmax(Z2)\n",
    "    cost = costFunction(Y, A2)\n",
    "    # pochodne funkcji straty:\n",
    "    dA2 = A2 - Y\n",
    "    dW2 = np.dot(A1.T,dA2) \n",
    "    db2 = np.sum(dA2, axis=0,keepdims=True)\n",
    "    dA1 = np.dot(dA2, W2.T)\n",
    "    dZ1 = dA1 * (A1 * (1 - A1))\n",
    "    dW1 = np.dot(X.T, dZ1)\n",
    "    db1 = np.sum(dZ1, axis=0)\n",
    "    gradients = {\"dW1\": dW1, \"db1\": db1, \"dW2\": dW2, \"db2\": db2}\n",
    "    return gradients, cost"
   ]
  },
  {
   "cell_type": "code",
   "execution_count": 209,
   "metadata": {},
   "outputs": [],
   "source": [
    "def updateParameters(W1, b1, W2, b2, gradients, learningRate):\n",
    "    W1 = W1 - learningRate * gradients[\"dW1\"]\n",
    "    b1 = b1 - learningRate * gradients[\"db1\"]\n",
    "    W2 = W2 - learningRate * gradients[\"dW2\"]\n",
    "    b2 = b2 - learningRate * gradients[\"db2\"]\n",
    "    return W1, b1, W2, b2"
   ]
  },
  {
   "cell_type": "code",
   "execution_count": 210,
   "metadata": {},
   "outputs": [],
   "source": [
    "def optimize(X, Y, W1, b1, W2, b2, learningRate, numberOfIterations, printCost=False):\n",
    "    costs = []\n",
    "    for i in range(numberOfIterations):\n",
    "        gradients, cost = propagate(X, Y, W1, b1, W2, b2)\n",
    "        W1, b1, W2, b2 = updateParameters(W1, b1, W2, b2, gradients, learningRate)\n",
    "        costs.append(cost)\n",
    "        if i % 100 == 0 and printCost:\n",
    "            print(\"Cost after iteration {}: {}\".format(i, cost))\n",
    "    parameters = {\"W1\": W1, \"b1\": b1, \"W2\": W2, \"b2\": b2}\n",
    "    return parameters, costs"
   ]
  },
  {
   "cell_type": "code",
   "execution_count": 211,
   "metadata": {},
   "outputs": [],
   "source": [
    "def predict(X, parameters):\n",
    "    Z1 = np.dot(X, parameters[\"W1\"]) + parameters[\"b1\"]\n",
    "    A1 = sigmoid(Z1)\n",
    "    Z2 = np.dot(A1, parameters[\"W2\"]) + parameters[\"b2\"]\n",
    "    A2 = softmax(Z2)\n",
    "    return np.argmax(A2, axis=1)"
   ]
  },
  {
   "cell_type": "code",
   "execution_count": null,
   "metadata": {},
   "outputs": [],
   "source": []
  },
  {
   "cell_type": "code",
   "execution_count": 223,
   "metadata": {},
   "outputs": [
    {
     "name": "stderr",
     "output_type": "stream",
     "text": [
      "/tmp/ipykernel_10313/70635953.py:2: RuntimeWarning: overflow encountered in exp\n",
      "  return 1 / (1 + np.exp(-Z))\n"
     ]
    },
    {
     "name": "stdout",
     "output_type": "stream",
     "text": [
      "Cost after iteration 0: 149648.3886977894\n",
      "Cost after iteration 100: 37903.78064005859\n",
      "Cost after iteration 200: 40096.270301320896\n",
      "Cost after iteration 300: 39029.42315391776\n",
      "Cost after iteration 400: 44175.21099511389\n",
      "Cost after iteration 500: 37074.033848058956\n",
      "Cost after iteration 600: 34514.85448499656\n",
      "Cost after iteration 700: 32648.9940280673\n",
      "Cost after iteration 800: 39412.49400523389\n",
      "Cost after iteration 900: 37075.23787438951\n",
      "Cost after iteration 1000: 36392.6930221142\n",
      "Cost after iteration 1100: 32546.36908784695\n",
      "Cost after iteration 1200: 30842.27410304198\n",
      "Cost after iteration 1300: 30223.06602085005\n",
      "Cost after iteration 1400: 30158.785361785925\n",
      "Cost after iteration 1500: 29938.074553643426\n",
      "Cost after iteration 1600: 29727.032683122758\n",
      "Cost after iteration 1700: 29585.05416301838\n",
      "Cost after iteration 1800: 29454.55567176825\n",
      "Cost after iteration 1900: 29310.81410074856\n",
      "Cost after iteration 2000: 29118.43295863782\n",
      "Cost after iteration 2100: 29019.59837697008\n",
      "Cost after iteration 2200: 28912.41831110578\n",
      "Cost after iteration 2300: 28779.994979717532\n",
      "Cost after iteration 2400: 28871.37258132312\n",
      "Cost after iteration 2500: 28581.03649990273\n",
      "Cost after iteration 2600: 28570.993126863825\n",
      "Cost after iteration 2700: 28526.649367837173\n",
      "Cost after iteration 2800: 28479.93919631198\n",
      "Cost after iteration 2900: 28437.585192691015\n",
      "Cost after iteration 3000: 28399.83789951626\n",
      "Cost after iteration 3100: 28366.066142893083\n",
      "Cost after iteration 3200: 28335.10827734945\n",
      "Cost after iteration 3300: 28305.70199692137\n",
      "Cost after iteration 3400: 28277.08469544586\n",
      "Cost after iteration 3500: 28249.028573083706\n",
      "Cost after iteration 3600: 28221.554249802066\n",
      "Cost after iteration 3700: 28194.75361277934\n",
      "Cost after iteration 3800: 28168.731747629787\n",
      "Cost after iteration 3900: 28143.58218357558\n",
      "Cost after iteration 4000: 28119.304770510877\n",
      "Cost after iteration 4100: 28095.549333197727\n",
      "Cost after iteration 4200: 28071.396943716212\n",
      "Cost after iteration 4300: 28105.50100300351\n",
      "Cost after iteration 4400: 28204.368046216066\n",
      "Cost after iteration 4500: 37817.725827037044\n",
      "Cost after iteration 4600: 30173.92029397899\n",
      "Cost after iteration 4700: 28808.89358457911\n",
      "Cost after iteration 4800: 28730.396830664245\n",
      "Cost after iteration 4900: 28651.130635174686\n",
      "Cost after iteration 5000: 28615.47228039623\n",
      "Cost after iteration 5100: 28240.804160900763\n",
      "Cost after iteration 5200: 28191.982124187936\n",
      "Cost after iteration 5300: 28151.032246910472\n",
      "Cost after iteration 5400: 28112.666987918834\n",
      "Cost after iteration 5500: 28076.563774733666\n",
      "Cost after iteration 5600: 28042.65020376861\n",
      "Cost after iteration 5700: 28010.977058673274\n",
      "Cost after iteration 5800: 28001.88484153429\n",
      "Cost after iteration 5900: 38986.599402673164\n",
      "Cost after iteration 6000: 31462.338895561857\n",
      "Cost after iteration 6100: 29065.55659528203\n",
      "Cost after iteration 6200: 29601.30073795788\n",
      "Cost after iteration 6300: 28893.88387105278\n",
      "Cost after iteration 6400: 28691.094021540503\n",
      "Cost after iteration 6500: 28633.062682461343\n",
      "Cost after iteration 6600: 28680.304481236384\n",
      "Cost after iteration 6700: 28563.811153224888\n",
      "Cost after iteration 6800: 28573.818021649695\n",
      "Cost after iteration 6900: 28737.694488796926\n"
     ]
    }
   ],
   "source": [
    "parameters = initializeParameters(2, 15, 20)\n",
    "params, costs = optimize(X,Y_encoded, parameters[\"W1\"], parameters[\"b1\"], parameters[\"W2\"], parameters[\"b2\"], 0.00001, 7000, True)"
   ]
  },
  {
   "cell_type": "code",
   "execution_count": 224,
   "metadata": {},
   "outputs": [
    {
     "name": "stderr",
     "output_type": "stream",
     "text": [
      "/tmp/ipykernel_10313/70635953.py:2: RuntimeWarning: overflow encountered in exp\n",
      "  return 1 / (1 + np.exp(-Z))\n"
     ]
    },
    {
     "name": "stdout",
     "output_type": "stream",
     "text": [
      "0\n",
      "11656 22988\n",
      "{0: 8563, 5: 10274, 1: 2894, 9: 227, 14: 353, 12: 677}\n",
      "{0: 7467, 4: 795, 7: 2224, 9: 2505, 1: 2929, 10: 169, 11: 725, 5: 2781, 14: 261, 3: 1466, 2: 844, 8: 51, 12: 273, 13: 120, 17: 116, 19: 82, 15: 25, 18: 80, 16: 57, 6: 18}\n",
      "{0: 6929, 5: 2714, 14: 92, 1: 1686, 12: 186, 9: 49}\n",
      "50.704715503741085\n"
     ]
    }
   ],
   "source": [
    "# parameters = initializeParameters(2, 5, 20)\n",
    "# params, costs = optimize(X,Y_encoded, parameters[\"W1\"], parameters[\"b1\"], parameters[\"W2\"], parameters[\"b2\"], 0.00001, 100, True)\n",
    "a = predict(X, params)\n",
    "i=18\n",
    "print(a[i])\n",
    "sum =0\n",
    "timesGuessedA = {}\n",
    "timesGuessedY = {}\n",
    "trafione = {}\n",
    "for i in range(a.shape[0]):\n",
    "    timesGuessedA[a[i]] = timesGuessedA.get(a[i], 0) + 1    \n",
    "    timesGuessedY[np.argmax(Y_encoded[i])] = timesGuessedY.get(np.argmax(Y_encoded[i]), 0) + 1\n",
    "    if a[i] == np.argmax(Y_encoded[i]):\n",
    "        trafione[a[i]] = trafione.get(a[i], 0) + 1\n",
    "        sum += 1\n",
    "\n",
    "print(sum,a.shape[0])\n",
    "print(timesGuessedA)\n",
    "print(timesGuessedY)\n",
    "print(trafione)\n",
    "print(sum/a.shape[0]*100)\n",
    "# e_sum = np.sum(e) / e.shape[0]\n",
    "\n",
    "# print(e_sum)\n",
    "# print(np.argmax(Y_encoded[i]))\n",
    "# print(a.T)"
   ]
  },
  {
   "cell_type": "code",
   "execution_count": 225,
   "metadata": {},
   "outputs": [
    {
     "name": "stdout",
     "output_type": "stream",
     "text": [
      "5\n",
      "2881 5747\n",
      "{5: 2561, 1: 737, 0: 2154, 14: 77, 12: 156, 9: 62}\n",
      "{7: 534, 1: 751, 9: 613, 0: 1879, 10: 50, 14: 65, 4: 194, 5: 698, 11: 179, 2: 209, 3: 393, 8: 15, 18: 18, 17: 23, 16: 11, 19: 12, 12: 58, 6: 2, 13: 34, 15: 9}\n",
      "{1: 413, 0: 1728, 14: 19, 5: 674, 9: 15, 12: 32}\n",
      "50.130502871063165\n"
     ]
    },
    {
     "name": "stderr",
     "output_type": "stream",
     "text": [
      "/tmp/ipykernel_10313/70635953.py:2: RuntimeWarning: overflow encountered in exp\n",
      "  return 1 / (1 + np.exp(-Z))\n"
     ]
    }
   ],
   "source": [
    "# parameters = initializeParameters(2, 5, 20)\n",
    "# params, costs = optimize(X,Y_encoded, parameters[\"W1\"], parameters[\"b1\"], parameters[\"W2\"], parameters[\"b2\"], 0.00001, 100, True)\n",
    "a = predict(X_test, params)\n",
    "i=18\n",
    "print(a[i])\n",
    "# e = np.argmax(Y_encoded, axis=1) -a\n",
    "sum =0\n",
    "timesGuessedA = {}\n",
    "timesGuessedY = {}\n",
    "trafione = {}\n",
    "for i in range(a.shape[0]):\n",
    "    timesGuessedA[a[i]] = timesGuessedA.get(a[i], 0) + 1    \n",
    "    timesGuessedY[np.argmax(Y_test_encoded[i])] = timesGuessedY.get(np.argmax(Y_test_encoded[i]), 0) + 1\n",
    "    if a[i] == np.argmax(Y_test_encoded[i]):\n",
    "        trafione[a[i]] = trafione.get(a[i], 0) + 1\n",
    "        sum += 1\n",
    "\n",
    "print(sum,a.shape[0])\n",
    "print(timesGuessedA)\n",
    "print(timesGuessedY)\n",
    "print(trafione)\n",
    "print(sum/a.shape[0]*100)\n",
    "# e_sum = np.sum(e) / e.shape[0]\n",
    "\n",
    "# print(e_sum)\n",
    "# print(np.argmax(Y_encoded[i]))\n",
    "# print(a.T)"
   ]
  },
  {
   "cell_type": "markdown",
   "metadata": {},
   "source": [
    "$$\n",
    "\\sum_{i=1}^{\\infty} \\frac{1}{i} =\\infty\n",
    "$$"
   ]
  },
  {
   "cell_type": "markdown",
   "metadata": {},
   "source": []
  }
 ],
 "metadata": {
  "kernelspec": {
   "display_name": "Python 3",
   "language": "python",
   "name": "python3"
  },
  "language_info": {
   "codemirror_mode": {
    "name": "ipython",
    "version": 3
   },
   "file_extension": ".py",
   "mimetype": "text/x-python",
   "name": "python",
   "nbconvert_exporter": "python",
   "pygments_lexer": "ipython3",
   "version": "3.8.10"
  }
 },
 "nbformat": 4,
 "nbformat_minor": 2
}
