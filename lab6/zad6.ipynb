{
 "cells": [
  {
   "cell_type": "code",
   "execution_count": 3,
   "metadata": {},
   "outputs": [],
   "source": [
    "import numpy as np\n",
    "import math\n",
    "import matplotlib.pyplot as plt"
   ]
  },
  {
   "cell_type": "code",
   "execution_count": 4,
   "metadata": {},
   "outputs": [],
   "source": [
    "def splitData(data, ratio):\n",
    "    np.random.shuffle(data)\n",
    "    train_size = int(len(data) * ratio)\n",
    "    train_set = data[:train_size]\n",
    "    test_set = data[train_size:]\n",
    "    return train_set, test_set"
   ]
  },
  {
   "cell_type": "code",
   "execution_count": 5,
   "metadata": {},
   "outputs": [],
   "source": [
    "def timeToMinutes(time):\n",
    "    splitted = time.split(\":\")\n",
    "    if int(splitted[0]) > 23 or int(splitted[1]) > 59:\n",
    "        raise ValueError\n",
    "    return int(splitted[0]) * 60 + int(splitted[1])"
   ]
  },
  {
   "cell_type": "code",
   "execution_count": 6,
   "metadata": {},
   "outputs": [],
   "source": [
    "def processTime(time):\n",
    "    minutes = timeToMinutes(time)\n",
    "    return  math.sin(minutes / (24 * 60)*math.pi)"
   ]
  },
  {
   "cell_type": "code",
   "execution_count": 7,
   "metadata": {},
   "outputs": [],
   "source": [
    "def loadData(codesToIndexes):\n",
    "    data = []\n",
    "    for i in range(1, 70):\n",
    "        filePrefix = 'Diabetes-Data/data-'\n",
    "        if i < 10:\n",
    "            filePrefix += '0'\n",
    "        fileHandle = open(filePrefix+str(i), 'r')\n",
    "        for line in fileHandle:\n",
    "            line = line.strip()\n",
    "            if line:\n",
    "                try:\n",
    "                    parts = line.split('\\t')\n",
    "                    time = processTime(parts[1])\n",
    "                    code = int(parts[2])\n",
    "                    if code not in codesToIndexes.keys():\n",
    "                        raise ValueError\n",
    "                    number = int(parts[3])\n",
    "                    data.append([time, code, number])\n",
    "                except ValueError:\n",
    "                    pass\n",
    "                except IndexError:\n",
    "                    pass\n",
    "        \n",
    "        fileHandle.close()\n",
    "    return data\n"
   ]
  },
  {
   "cell_type": "code",
   "execution_count": 8,
   "metadata": {},
   "outputs": [],
   "source": [
    "def encodeOutput(Y,codesToIndexes):\n",
    "    Y_encoded = np.zeros((Y.shape[0], 20))\n",
    "    for i, code in enumerate(Y):\n",
    "        index = codesToIndexes[code]\n",
    "        Y_encoded[i, index] = 1\n",
    "    return Y_encoded"
   ]
  },
  {
   "cell_type": "code",
   "execution_count": 10,
   "metadata": {},
   "outputs": [],
   "source": [
    "def getEncodedDatasets():\n",
    "    codesToIndexes = {33:0, 34:1, 35:2, 48:3, 57:4, 58:5, 59:6, 60:7, 61:8, 62:9, 63:10, 64:11, 65:12, 66:13, 67:14, 68:15, 69:16, 70:17, 71:18, 72:19}\n",
    "    data = np.array(loadData(codesToIndexes))\n",
    "    train, test = splitData(data, 0.8)\n",
    "    X_train = train[:, [0, 2]]\n",
    "    X_test = test[:, [0, 2]]\n",
    "    Y_train = train[:, 1]\n",
    "    Y_test = test[:, 1]\n",
    "    Y_train_encoded = encodeOutput(Y_train,codesToIndexes)\n",
    "    Y_test_encoded = encodeOutput(Y_test,codesToIndexes)\n",
    "    return X_test, Y_test_encoded, X_train, Y_train_encoded"
   ]
  },
  {
   "cell_type": "code",
   "execution_count": 11,
   "metadata": {},
   "outputs": [],
   "source": [
    "def initializeParameters(nX, nH, nY, numberOfHiddenLayers=1):\n",
    "    parameters = {}\n",
    "    if numberOfHiddenLayers < 1:\n",
    "        raise ValueError   \n",
    "    if numberOfHiddenLayers == 1:\n",
    "        parameters[\"W1\"] = np.random.randn(nX, nH)\n",
    "        parameters[\"b1\"] = np.zeros((1,nH))\n",
    "    if numberOfHiddenLayers > 1:\n",
    "        parameters[\"W1\"] = np.random.randn(nX, nH[0])\n",
    "        parameters[\"b1\"] = np.zeros((1,nH[0]))\n",
    "        for i in range(2, numberOfHiddenLayers+1):\n",
    "            parameters[\"W\"+str(i)] = np.random.randn(nH[i-2], nH[i-1])\n",
    "            parameters[\"b\"+str(i)] = np.zeros((1,nH[i-1]))\n",
    "    if numberOfHiddenLayers == 1:\n",
    "        parameters[\"W\"+str(numberOfHiddenLayers+1)] = np.random.randn(nH, nY)\n",
    "    else:\n",
    "        parameters[\"W\"+str(numberOfHiddenLayers+1)] = np.random.randn(nH[-1], nY)\n",
    "    parameters[\"b\"+str(numberOfHiddenLayers+1)] = np.zeros((1,nY))\n",
    "    return parameters"
   ]
  },
  {
   "cell_type": "markdown",
   "metadata": {},
   "source": [
    "### Funkcje aktywacji\n",
    "\n",
    "- **Warstwy ukryte:** Sigmoid\n",
    "  - $$\\sigma(z) = \\frac{1}{1 + e^{-z}}$$\n",
    "- **Warstwa wyjściowa:** Softmax\n",
    "  - $$\\text{Softmax}(z_i) = \\frac{e^{z_i}}{\\sum_{j=1}^{K} e^{z_j}}$$\n",
    "\n",
    "### Propagacja w przód\n",
    "\n",
    "Dla każdej warstwy l (od 1 do L+1, gdzie L+1 to warstwa wyjściowa):\n",
    "\n",
    "1. **Sygnał wejściowy:** $$Z^{[l]} = W^{[l]} A^{[l-1]} + b^{[l]}$$\n",
    "2. **Aktywacja:** \n",
    "   - Dla warstw ukrytych: $$A^{[l]} = \\sigma(Z^{[l]})$$\n",
    "   - Dla warstwy wyjściowej: $$A^{[L+1]} = \\text{Softmax}(Z^{[L+1]})$$\n",
    "\n",
    "### Wsteczna propagacja błędu\n",
    "\n",
    "1. **Błąd na wyjściu (warstwa L+1):**\n",
    "   - $$\\delta^{[L+1]} = A^{[L+1]} - Y$$\n",
    "\n",
    "Dla każdej warstwy l od L do 1:\n",
    "\n",
    "2. **Błąd dla warstwy l:**\n",
    "   - $$\\delta^{[l]} = (W^{[l+1]T} \\delta^{[l+1]}) \\odot \\sigma'(Z^{[l]})$$\n",
    "3. **Gradient dla wag i biasów:**\n",
    "   - $$\\nabla W^{[l]} = \\delta^{[l]} A^{[l-1]T}$$\n",
    "   - $$\\nabla b^{[l]} = \\sum(\\delta^{[l]}, \\text{axis} = 0)$$\n",
    "\n"
   ]
  },
  {
   "cell_type": "code",
   "execution_count": 12,
   "metadata": {},
   "outputs": [],
   "source": [
    "def costFunction(Y, Y_hat):\n",
    "    return - np.sum(Y * np.log(Y_hat))"
   ]
  },
  {
   "cell_type": "code",
   "execution_count": 13,
   "metadata": {},
   "outputs": [],
   "source": [
    "def sigmoid(Z):\n",
    "    return 1 / (1 + np.exp(-Z))"
   ]
  },
  {
   "cell_type": "code",
   "execution_count": 14,
   "metadata": {},
   "outputs": [],
   "source": [
    "def softmax(Z):\n",
    "    return np.exp(Z) / np.sum(np.exp(Z), axis=1, keepdims=True)"
   ]
  },
  {
   "cell_type": "code",
   "execution_count": 15,
   "metadata": {},
   "outputs": [],
   "source": [
    "def propagate(X, Y, parameters):\n",
    "    # if len(parameters)//2 > 1:            \n",
    "    A = X\n",
    "    history = {\"A0\": X}\n",
    "    gradients = {}\n",
    "    for i in range(1, len(parameters)//2+1):\n",
    "        Z = np.dot(A, parameters[\"W\"+str(i)]) + parameters[\"b\"+str(i)]\n",
    "        history[\"Z\"+str(i)] = Z\n",
    "        if i != len(parameters)//2:\n",
    "            A = sigmoid(Z)\n",
    "        else:\n",
    "            A = softmax(Z)\n",
    "        history[\"A\"+str(i)] = A\n",
    "    \n",
    "    cost = costFunction(Y, A)\n",
    "    gradients = {}\n",
    "    \n",
    "    for i in range(len(parameters)//2, 0, -1):\n",
    "        if i == len(parameters)//2:\n",
    "            history[\"dA\"+str(i)]= history[\"A\"+str(i)] - Y\n",
    "        else:\n",
    "            history[\"dA\"+str(i)] = np.dot(history[\"dA\"+str(i+1)], parameters[\"W\"+str(i+1)].T) * history[\"A\"+str(i)] * (1 - history[\"A\"+str(i)])\n",
    "        \n",
    "        gradients[\"dW\"+str(i)] = np.dot(history[\"A\"+str(i-1)].T,history[\"dA\"+str(i)])\n",
    "        gradients[\"db\"+str(i)] = np.sum(history[\"dA\"+str(i)], axis=0)\n",
    "    # if len(parameters)//2 == 1:\n",
    "\n",
    "    #     Z1 = np.dot(X, parameters[\"W1\"]) + parameters[\"b1\"]\n",
    "    #     A1 = sigmoid(Z1)\n",
    "    #     Z2 = np.dot(A1, parameters[\"W2\"]) + parameters[\"b2\"]\n",
    "    #     A2 = softmax(Z2)\n",
    "    #     cost = costFunction(Y, A2)\n",
    "    #     # # pochodne funkcji straty:\n",
    "    #     dA2 = A2 - Y\n",
    "    #     dW2 = np.dot(A1.T,dA2) \n",
    "    #     db2 = np.sum(dA2, axis=0,keepdims=True)\n",
    "    #     dA1 = np.dot(dA2, parameters[\"W2\"].T)\n",
    "    #     dZ1 = dA1 * (A1 * (1 - A1))\n",
    "    #     dW1 = np.dot(X.T, dZ1)\n",
    "    #     db1 = np.sum(dZ1, axis=0)\n",
    "    #     gradients = {\"dW1\": dW1, \"db1\": db1, \"dW2\": dW2, \"db2\": db2}\n",
    "    return gradients, cost"
   ]
  },
  {
   "cell_type": "markdown",
   "metadata": {},
   "source": [
    "\n",
    "### Aktualizacja wag\n",
    "\n",
    "- Wagi i biasy są aktualizowane za pomocą metody spadku gradientu:\n",
    "  - $$W^{[l]} = W^{[l]} - \\alpha \\nabla W^{[l]}$$\n",
    "  - $$b^{[l]} = b^{[l]} - \\alpha \\nabla b^{[l]}$$"
   ]
  },
  {
   "cell_type": "code",
   "execution_count": 16,
   "metadata": {},
   "outputs": [],
   "source": [
    "def updateParameters(parameters, gradients, learningRate):\n",
    "    for key in parameters.keys():\n",
    "        parameters[key] += - learningRate * gradients[\"d\"+key]\n",
    "    return parameters"
   ]
  },
  {
   "cell_type": "code",
   "execution_count": 17,
   "metadata": {},
   "outputs": [],
   "source": [
    "def optimize(X, Y, parameters, learningRate, numberOfIterations, printCost=False):\n",
    "    costs = []\n",
    "    for i in range(numberOfIterations):\n",
    "        gradients, cost = propagate(X, Y, parameters)\n",
    "        parameters = updateParameters(parameters, gradients, learningRate)\n",
    "        costs.append(cost)\n",
    "        if i % 100 == 0 and printCost:\n",
    "            print(\"Cost after iteration {}: {}\".format(i, cost))\n",
    "    return parameters, costs"
   ]
  },
  {
   "cell_type": "code",
   "execution_count": 18,
   "metadata": {},
   "outputs": [],
   "source": [
    "def predict(X, parameters):\n",
    "    Z = X\n",
    "    for i in range(1, len(parameters)//2):\n",
    "        Z = np.dot(Z, parameters[\"W\"+str(i)]) + parameters[\"b\"+str(i)]\n",
    "        Z = sigmoid(Z)\n",
    "    Z = np.dot(Z, parameters[\"W\"+str(len(parameters)//2)]) + parameters[\"b\"+str(len(parameters)//2)]\n",
    "    Z = softmax(Z)\n",
    "    return np.argmax(Z, axis=1)"
   ]
  },
  {
   "cell_type": "code",
   "execution_count": 19,
   "metadata": {},
   "outputs": [
    {
     "name": "stdout",
     "output_type": "stream",
     "text": [
      "Cost after iteration 0: 129437.22112405988\n"
     ]
    },
    {
     "name": "stderr",
     "output_type": "stream",
     "text": [
      "/tmp/ipykernel_4962/70635953.py:2: RuntimeWarning: overflow encountered in exp\n",
      "  return 1 / (1 + np.exp(-Z))\n"
     ]
    },
    {
     "name": "stdout",
     "output_type": "stream",
     "text": [
      "Cost after iteration 100: 48029.788708621585\n",
      "Cost after iteration 200: 44164.88649996472\n",
      "Cost after iteration 300: 41532.34074351513\n",
      "Cost after iteration 400: 39332.00588160136\n",
      "Cost after iteration 500: 37694.337666083105\n",
      "Cost after iteration 600: 36415.681159710235\n",
      "Cost after iteration 700: 34550.66633591541\n",
      "Cost after iteration 800: 33905.256187943\n",
      "Cost after iteration 900: 33946.09668515923\n",
      "Cost after iteration 1000: 32971.53407648512\n",
      "Cost after iteration 1100: 32659.776669409035\n",
      "Cost after iteration 1200: 32853.84472466655\n",
      "Cost after iteration 1300: 32642.52573474872\n",
      "Cost after iteration 1400: 32454.982286188737\n",
      "Cost after iteration 1500: 32296.06395361123\n",
      "Cost after iteration 1600: 32161.112737219868\n",
      "Cost after iteration 1700: 32045.685454530685\n",
      "Cost after iteration 1800: 31946.10718229219\n",
      "Cost after iteration 1900: 31859.440308270685\n",
      "Cost after iteration 2000: 31783.35144135256\n",
      "Cost after iteration 2100: 31715.97858794724\n",
      "Cost after iteration 2200: 31655.818263745932\n",
      "Cost after iteration 2300: 31601.630645131754\n",
      "Cost after iteration 2400: 31552.351494240596\n",
      "Cost after iteration 2500: 31506.982870920605\n",
      "Cost after iteration 2600: 31464.370247485465\n",
      "Cost after iteration 2700: 31422.807471915297\n",
      "Cost after iteration 2800: 31405.742451041537\n",
      "Cost after iteration 2900: 31347.00726519882\n",
      "Cost after iteration 3000: 31275.63106947856\n",
      "Cost after iteration 3100: 31193.307727562875\n",
      "Cost after iteration 3200: 30148.730453773514\n",
      "Cost after iteration 3300: 30145.439889129586\n",
      "Cost after iteration 3400: 30240.44605155569\n",
      "Cost after iteration 3500: 29524.005427526805\n",
      "Cost after iteration 3600: 29356.134939866923\n",
      "Cost after iteration 3700: 29488.809207987368\n",
      "Cost after iteration 3800: 29146.98543713968\n",
      "Cost after iteration 3900: 29074.797194480965\n",
      "Cost after iteration 4000: 29150.079208469866\n",
      "Cost after iteration 4100: 28946.15546583206\n",
      "Cost after iteration 4200: 28890.243427422964\n",
      "Cost after iteration 4300: 29192.59999626168\n",
      "Cost after iteration 4400: 31131.790686319302\n",
      "Cost after iteration 4500: 28756.562224758432\n",
      "Cost after iteration 4600: 29044.630667156332\n",
      "Cost after iteration 4700: 29204.290096642184\n",
      "Cost after iteration 4800: 29073.44917363378\n",
      "Cost after iteration 4900: 29017.06458494786\n"
     ]
    }
   ],
   "source": [
    "X_test, Y_test, X_train, Y_train =getEncodedDatasets()\n",
    "# parameters = initializeParameters(2, [5,15], 20,2)\n",
    "parameters = initializeParameters(2, 15, 20,1)\n",
    "params, costs = optimize(X_train,Y_train, parameters, 0.00001, 5000, True)"
   ]
  },
  {
   "cell_type": "code",
   "execution_count": 20,
   "metadata": {},
   "outputs": [
    {
     "name": "stderr",
     "output_type": "stream",
     "text": [
      "/tmp/ipykernel_4962/70635953.py:2: RuntimeWarning: overflow encountered in exp\n",
      "  return 1 / (1 + np.exp(-Z))\n"
     ]
    },
    {
     "name": "stdout",
     "output_type": "stream",
     "text": [
      "0\n",
      "11462 22988\n",
      "{0: 8558, 5: 10331, 1: 3020, 12: 677, 14: 334, 7: 68}\n",
      "{1: 2971, 9: 2504, 3: 1488, 0: 7428, 2: 836, 13: 125, 4: 830, 7: 2175, 5: 2811, 11: 705, 14: 266, 15: 28, 18: 69, 10: 172, 12: 267, 8: 52, 17: 112, 19: 72, 16: 60, 6: 17}\n",
      "{0: 6828, 5: 2733, 1: 1616, 12: 176, 14: 87, 7: 22}\n",
      "49.860796937532626\n"
     ]
    }
   ],
   "source": [
    "a = predict(X_train, params)\n",
    "i=18\n",
    "print(a[i])\n",
    "sum =0\n",
    "timesGuessedA = {}\n",
    "timesGuessedY = {}\n",
    "trafione = {}\n",
    "for i in range(a.shape[0]):\n",
    "    timesGuessedA[a[i]] = timesGuessedA.get(a[i], 0) + 1    \n",
    "    timesGuessedY[np.argmax(Y_train[i])] = timesGuessedY.get(np.argmax(Y_train[i]), 0) + 1\n",
    "    if a[i] == np.argmax(Y_train[i]):\n",
    "        trafione[a[i]] = trafione.get(a[i], 0) + 1\n",
    "        sum += 1\n",
    "\n",
    "print(sum,a.shape[0])\n",
    "print(timesGuessedA)\n",
    "print(timesGuessedY)\n",
    "print(trafione)\n",
    "print(sum/a.shape[0]*100)"
   ]
  },
  {
   "cell_type": "code",
   "execution_count": 21,
   "metadata": {},
   "outputs": [
    {
     "name": "stdout",
     "output_type": "stream",
     "text": [
      "0\n",
      "2868 5747\n",
      "{5: 2555, 0: 2210, 1: 717, 7: 13, 12: 161, 14: 91}\n",
      "{9: 614, 5: 668, 0: 1918, 7: 583, 1: 709, 3: 371, 10: 47, 14: 60, 2: 217, 4: 159, 13: 29, 11: 199, 17: 27, 12: 64, 8: 14, 16: 8, 18: 29, 15: 6, 19: 22, 6: 3}\n",
      "{5: 657, 0: 1770, 1: 373, 7: 1, 12: 43, 14: 24}\n",
      "49.90429789455368\n"
     ]
    },
    {
     "name": "stderr",
     "output_type": "stream",
     "text": [
      "/tmp/ipykernel_4962/70635953.py:2: RuntimeWarning: overflow encountered in exp\n",
      "  return 1 / (1 + np.exp(-Z))\n"
     ]
    }
   ],
   "source": [
    "a = predict(X_test, params)\n",
    "i=18\n",
    "print(a[i])\n",
    "sum =0\n",
    "timesGuessedA = {}\n",
    "timesGuessedY = {}\n",
    "trafione = {}\n",
    "for i in range(a.shape[0]):\n",
    "    timesGuessedA[a[i]] = timesGuessedA.get(a[i], 0) + 1    \n",
    "    timesGuessedY[np.argmax(Y_test[i])] = timesGuessedY.get(np.argmax(Y_test[i]), 0) + 1\n",
    "    if a[i] == np.argmax(Y_test[i]):\n",
    "        trafione[a[i]] = trafione.get(a[i], 0) + 1\n",
    "        sum += 1\n",
    "\n",
    "print(sum,a.shape[0])\n",
    "print(timesGuessedA)\n",
    "print(timesGuessedY)\n",
    "print(trafione)\n",
    "print(sum/a.shape[0]*100)"
   ]
  },
  {
   "cell_type": "code",
   "execution_count": 23,
   "metadata": {},
   "outputs": [
    {
     "data": {
      "text/plain": [
       "[<matplotlib.lines.Line2D at 0x7f21f41acb50>]"
      ]
     },
     "execution_count": 23,
     "metadata": {},
     "output_type": "execute_result"
    },
    {
     "data": {
      "image/png": "[encoded data removed]",
      "text/plain": [
       "<Figure size 640x480 with 1 Axes>"
      ]
     },
     "metadata": {},
     "output_type": "display_data"
    }
   ],
   "source": [
    "plt.plot(costs)"
   ]
  },
  {
   "cell_type": "markdown",
   "metadata": {},
   "source": []
  }
 ],
 "metadata": {
  "kernelspec": {
   "display_name": "Python 3",
   "language": "python",
   "name": "python3"
  },
  "language_info": {
   "codemirror_mode": {
    "name": "ipython",
    "version": 3
   },
   "file_extension": ".py",
   "mimetype": "text/x-python",
   "name": "python",
   "nbconvert_exporter": "python",
   "pygments_lexer": "ipython3",
   "version": "3.8.10"
  }
 },
 "nbformat": 4,
 "nbformat_minor": 2
}
