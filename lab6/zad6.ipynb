{
 "cells": [
  {
   "cell_type": "code",
   "execution_count": 274,
   "metadata": {},
   "outputs": [],
   "source": [
    "import numpy as np\n",
    "import math\n",
    "import matplotlib.pyplot as plt"
   ]
  },
  {
   "cell_type": "code",
   "execution_count": 275,
   "metadata": {},
   "outputs": [],
   "source": [
    "def splitData(data, ratio):\n",
    "    np.random.shuffle(data)\n",
    "    train_size = int(len(data) * ratio)\n",
    "    train_set = data[:train_size]\n",
    "    test_set = data[train_size:]\n",
    "    return train_set, test_set"
   ]
  },
  {
   "cell_type": "code",
   "execution_count": 276,
   "metadata": {},
   "outputs": [],
   "source": [
    "def timeToMinutes(time):\n",
    "    splitted = time.split(\":\")\n",
    "    if int(splitted[0]) > 23 or int(splitted[1]) > 59:\n",
    "        raise ValueError\n",
    "    return int(splitted[0]) * 60 + int(splitted[1])"
   ]
  },
  {
   "cell_type": "code",
   "execution_count": 277,
   "metadata": {},
   "outputs": [],
   "source": [
    "def processTime(time):\n",
    "    minutes = timeToMinutes(time)\n",
    "    return  math.sin(minutes / (24 * 60)*math.pi)"
   ]
  },
  {
   "cell_type": "code",
   "execution_count": 278,
   "metadata": {},
   "outputs": [],
   "source": [
    "def loadData(codesToIndexes):\n",
    "    data = []\n",
    "    for i in range(1, 70):\n",
    "        filePrefix = 'Diabetes-Data/data-'\n",
    "        if i < 10:\n",
    "            filePrefix += '0'\n",
    "        fileHandle = open(filePrefix+str(i), 'r')\n",
    "        for line in fileHandle:\n",
    "            line = line.strip()\n",
    "            if line:\n",
    "                try:\n",
    "                    parts = line.split('\\t')\n",
    "                    time = processTime(parts[1])\n",
    "                    code = int(parts[2])\n",
    "                    if code not in codesToIndexes.keys():\n",
    "                        raise ValueError\n",
    "                    number = int(parts[3])\n",
    "                    data.append([time, code, number])\n",
    "                except ValueError:\n",
    "                    pass\n",
    "                except IndexError:\n",
    "                    pass\n",
    "        \n",
    "        fileHandle.close()\n",
    "    return data\n"
   ]
  },
  {
   "cell_type": "code",
   "execution_count": 279,
   "metadata": {},
   "outputs": [],
   "source": [
    "def encodeOutput(Y,codesToIndexes):\n",
    "    codesToIndexes = {33:0, 34:1, 35:2, 48:3, 57:4, 58:5, 59:6, 60:7, 61:8, 62:9, 63:10, 64:11, 65:12, 66:13, 67:14, 68:15, 69:16, 70:17, 71:18, 72:19}\n",
    "    Y_encoded = np.zeros((Y.shape[0], 20))\n",
    "    for i, code in enumerate(Y):\n",
    "        index = codesToIndexes[code]\n",
    "        Y_encoded[i, index] = 1\n",
    "    return Y_encoded"
   ]
  },
  {
   "cell_type": "code",
   "execution_count": 280,
   "metadata": {},
   "outputs": [],
   "source": [
    "codesToIndexes = {33:0, 34:1, 35:2, 48:3, 57:4, 58:5, 59:6, 60:7, 61:8, 62:9, 63:10, 64:11, 65:12, 66:13, 67:14, 68:15, 69:16, 70:17, 71:18, 72:19}\n",
    "data = np.array(loadData(codesToIndexes))\n",
    "data, test = splitData(data, 0.8)\n",
    "X = data[:, [0, 2]]\n",
    "X_test = test[:, [0, 2]]\n",
    "Y = data[:, 1]\n",
    "Y_test = test[:, 1]\n",
    "Y_encoded = encodeOutput(Y,codesToIndexes)\n",
    "Y_test_encoded = encodeOutput(Y_test,codesToIndexes)"
   ]
  },
  {
   "cell_type": "code",
   "execution_count": 281,
   "metadata": {},
   "outputs": [],
   "source": [
    "def initializeParameters(nX, nH, nY, numberOfHiddenLayers=1):\n",
    "    parameters = {}\n",
    "    if numberOfHiddenLayers < 1:\n",
    "        raise ValueError   \n",
    "    if numberOfHiddenLayers == 1:\n",
    "        parameters[\"W1\"] = np.random.randn(nX, nH)\n",
    "        parameters[\"b1\"] = np.zeros((1,nH))\n",
    "    if numberOfHiddenLayers > 1:\n",
    "        parameters[\"W1\"] = np.random.randn(nX, nH[0])\n",
    "        parameters[\"b1\"] = np.zeros((1,nH[0]))\n",
    "        for i in range(2, numberOfHiddenLayers+1):\n",
    "            parameters[\"W\"+str(i)] = np.random.randn(nH[i-2], nH[i-1])\n",
    "            parameters[\"b\"+str(i)] = np.zeros((1,nH[i-1]))\n",
    "    if numberOfHiddenLayers == 1:\n",
    "        parameters[\"W\"+str(numberOfHiddenLayers+1)] = np.random.randn(nH, nY)\n",
    "    else:\n",
    "        parameters[\"W\"+str(numberOfHiddenLayers+1)] = np.random.randn(nH[-1], nY)\n",
    "    parameters[\"b\"+str(numberOfHiddenLayers+1)] = np.zeros((1,nY))\n",
    "    return parameters"
   ]
  },
  {
   "cell_type": "markdown",
   "metadata": {},
   "source": [
    "### Architektura sieci neuronowej\n",
    "\n",
    "- **Warstwa wejściowa:** N neurony (wejścia)\n",
    "- **Warstwy ukryte:** L warstw, każda z dowolną liczbą neuronów\n",
    "- **Warstwa wyjściowa:** K neuronów (klasyfikacja na K kategorii)\n",
    "\n",
    "### Funkcje aktywacji\n",
    "\n",
    "- **Warstwy ukryte:** Sigmoid\n",
    "  - $$\\sigma(z) = \\frac{1}{1 + e^{-z}}$$\n",
    "- **Warstwa wyjściowa:** Softmax\n",
    "  - $$\\text{Softmax}(z_i) = \\frac{e^{z_i}}{\\sum_{j=1}^{K} e^{z_j}}$$\n",
    "\n",
    "### Propagacja w przód\n",
    "\n",
    "Dla każdej warstwy l (od 1 do L+1, gdzie L+1 to warstwa wyjściowa):\n",
    "\n",
    "1. **Sygnał wejściowy:** $$Z^{[l]} = W^{[l]} A^{[l-1]} + b^{[l]}$$\n",
    "2. **Aktywacja:** \n",
    "   - Dla warstw ukrytych: $$A^{[l]} = \\sigma(Z^{[l]})$$\n",
    "   - Dla warstwy wyjściowej: $$A^{[L+1]} = \\text{Softmax}(Z^{[L+1]})$$\n",
    "\n",
    "### Wsteczna propagacja błędu\n",
    "\n",
    "1. **Błąd na wyjściu (warstwa L+1):**\n",
    "   - $$\\delta^{[L+1]} = A^{[L+1]} - Y$$\n",
    "\n",
    "Dla każdej warstwy l od L do 1:\n",
    "\n",
    "2. **Błąd dla warstwy l:**\n",
    "   - $$\\delta^{[l]} = (W^{[l+1]T} \\delta^{[l+1]}) \\odot \\sigma'(Z^{[l]})$$\n",
    "3. **Gradient dla wag i biasów:**\n",
    "   - $$\\nabla W^{[l]} = \\delta^{[l]} A^{[l-1]T}$$\n",
    "   - $$\\nabla b^{[l]} = \\sum(\\delta^{[l]}, \\text{axis} = 0)$$\n",
    "\n"
   ]
  },
  {
   "cell_type": "code",
   "execution_count": 282,
   "metadata": {},
   "outputs": [],
   "source": [
    "def costFunction(Y, Y_hat):\n",
    "    return - np.sum(Y * np.log(Y_hat))"
   ]
  },
  {
   "cell_type": "code",
   "execution_count": 283,
   "metadata": {},
   "outputs": [],
   "source": [
    "def sigmoid(Z):\n",
    "    return 1 / (1 + np.exp(-Z))"
   ]
  },
  {
   "cell_type": "code",
   "execution_count": 284,
   "metadata": {},
   "outputs": [],
   "source": [
    "def softmax(Z):\n",
    "    return np.exp(Z) / np.sum(np.exp(Z), axis=1, keepdims=True)"
   ]
  },
  {
   "cell_type": "code",
   "execution_count": 285,
   "metadata": {},
   "outputs": [],
   "source": [
    "def propagate(X, Y, parameters):\n",
    "    # if len(parameters)//2 > 1:            \n",
    "    A = X\n",
    "    history = {\"A0\": X}\n",
    "    gradients = {}\n",
    "    for i in range(1, len(parameters)//2+1):\n",
    "        Z = np.dot(A, parameters[\"W\"+str(i)]) + parameters[\"b\"+str(i)]\n",
    "        history[\"Z\"+str(i)] = Z\n",
    "        if i != len(parameters)//2:\n",
    "            A = sigmoid(Z)\n",
    "        else:\n",
    "            A = softmax(Z)\n",
    "        history[\"A\"+str(i)] = A\n",
    "    \n",
    "    cost = costFunction(Y, A)\n",
    "    gradients = {}\n",
    "    \n",
    "    for i in range(len(parameters)//2, 0, -1):\n",
    "        if i == len(parameters)//2:\n",
    "            history[\"dA\"+str(i)]= history[\"A\"+str(i)] - Y\n",
    "        else:\n",
    "            history[\"dA\"+str(i)] = np.dot(history[\"dA\"+str(i+1)], parameters[\"W\"+str(i+1)].T) * history[\"A\"+str(i)] * (1 - history[\"A\"+str(i)])\n",
    "        \n",
    "        gradients[\"dW\"+str(i)] = np.dot(history[\"A\"+str(i-1)].T,history[\"dA\"+str(i)])\n",
    "        gradients[\"db\"+str(i)] = np.sum(history[\"dA\"+str(i)], axis=0)\n",
    "    # if len(parameters)//2 == 1:\n",
    "\n",
    "    #     Z1 = np.dot(X, parameters[\"W1\"]) + parameters[\"b1\"]\n",
    "    #     A1 = sigmoid(Z1)\n",
    "    #     Z2 = np.dot(A1, parameters[\"W2\"]) + parameters[\"b2\"]\n",
    "    #     A2 = softmax(Z2)\n",
    "    #     cost = costFunction(Y, A2)\n",
    "    #     # # pochodne funkcji straty:\n",
    "    #     dA2 = A2 - Y\n",
    "    #     dW2 = np.dot(A1.T,dA2) \n",
    "    #     db2 = np.sum(dA2, axis=0,keepdims=True)\n",
    "    #     dA1 = np.dot(dA2, parameters[\"W2\"].T)\n",
    "    #     dZ1 = dA1 * (A1 * (1 - A1))\n",
    "    #     dW1 = np.dot(X.T, dZ1)\n",
    "    #     db1 = np.sum(dZ1, axis=0)\n",
    "    #     gradients = {\"dW1\": dW1, \"db1\": db1, \"dW2\": dW2, \"db2\": db2}\n",
    "    return gradients, cost"
   ]
  },
  {
   "cell_type": "markdown",
   "metadata": {},
   "source": [
    "\n",
    "### Aktualizacja wag\n",
    "\n",
    "- Wagi i biasy są aktualizowane za pomocą metody spadku gradientu:\n",
    "  - $$W^{[l]} = W^{[l]} - \\alpha \\nabla W^{[l]}$$\n",
    "  - $$b^{[l]} = b^{[l]} - \\alpha \\nabla b^{[l]}$$"
   ]
  },
  {
   "cell_type": "code",
   "execution_count": 286,
   "metadata": {},
   "outputs": [],
   "source": [
    "def updateParameters(parameters, gradients, learningRate):\n",
    "    for key in parameters.keys():\n",
    "        parameters[key] += - learningRate * gradients[\"d\"+key]\n",
    "    return parameters"
   ]
  },
  {
   "cell_type": "code",
   "execution_count": 287,
   "metadata": {},
   "outputs": [],
   "source": [
    "def optimize(X, Y, parameters, learningRate, numberOfIterations, printCost=False):\n",
    "    costs = []\n",
    "    for i in range(numberOfIterations):\n",
    "        gradients, cost = propagate(X, Y, parameters)\n",
    "        parameters = updateParameters(parameters, gradients, learningRate)\n",
    "        costs.append(cost)\n",
    "        if i % 100 == 0 and printCost:\n",
    "            print(\"Cost after iteration {}: {}\".format(i, cost))\n",
    "    return parameters, costs"
   ]
  },
  {
   "cell_type": "code",
   "execution_count": 288,
   "metadata": {},
   "outputs": [],
   "source": [
    "def predict(X, parameters):\n",
    "    Z = X\n",
    "    for i in range(1, len(parameters)//2):\n",
    "        Z = np.dot(Z, parameters[\"W\"+str(i)]) + parameters[\"b\"+str(i)]\n",
    "        Z = sigmoid(Z)\n",
    "    Z = np.dot(Z, parameters[\"W\"+str(len(parameters)//2)]) + parameters[\"b\"+str(len(parameters)//2)]\n",
    "    Z = softmax(Z)\n",
    "    return np.argmax(Z, axis=1)"
   ]
  },
  {
   "cell_type": "code",
   "execution_count": 289,
   "metadata": {},
   "outputs": [
    {
     "name": "stderr",
     "output_type": "stream",
     "text": [
      "/tmp/ipykernel_19238/70635953.py:2: RuntimeWarning: overflow encountered in exp\n",
      "  return 1 / (1 + np.exp(-Z))\n"
     ]
    },
    {
     "name": "stdout",
     "output_type": "stream",
     "text": [
      "Cost after iteration 0: 68461.71302725516\n",
      "Cost after iteration 100: 48895.52312702399\n",
      "Cost after iteration 200: 46266.51046246252\n",
      "Cost after iteration 300: 42667.934803006196\n",
      "Cost after iteration 400: 40625.05827299473\n",
      "Cost after iteration 500: 37273.30271670071\n",
      "Cost after iteration 600: 37347.549026134126\n",
      "Cost after iteration 700: 34393.69309505231\n",
      "Cost after iteration 800: 35323.62326836101\n",
      "Cost after iteration 900: 34505.05860423376\n",
      "Cost after iteration 1000: 33918.27708062716\n",
      "Cost after iteration 1100: 33010.09122065229\n",
      "Cost after iteration 1200: 32729.555652650906\n",
      "Cost after iteration 1300: 31140.27112016399\n",
      "Cost after iteration 1400: 31479.3323444023\n",
      "Cost after iteration 1500: 30584.64758055823\n",
      "Cost after iteration 1600: 30255.041546927267\n",
      "Cost after iteration 1700: 30136.795054345595\n",
      "Cost after iteration 1800: 30832.65691638661\n",
      "Cost after iteration 1900: 29954.141860498145\n",
      "Cost after iteration 2000: 30835.399294984654\n",
      "Cost after iteration 2100: 31743.883810432002\n",
      "Cost after iteration 2200: 29488.354974655103\n",
      "Cost after iteration 2300: 29647.91150699935\n",
      "Cost after iteration 2400: 29685.864068916107\n",
      "Cost after iteration 2500: 29539.840782825235\n",
      "Cost after iteration 2600: 29375.582774413346\n",
      "Cost after iteration 2700: 29424.58042590072\n",
      "Cost after iteration 2800: 29387.046446393844\n",
      "Cost after iteration 2900: 29332.024679698614\n",
      "Cost after iteration 3000: 29279.907078732856\n",
      "Cost after iteration 3100: 29230.232331918756\n",
      "Cost after iteration 3200: 29182.35360286898\n",
      "Cost after iteration 3300: 29135.48562657135\n",
      "Cost after iteration 3400: 29088.722599490236\n",
      "Cost after iteration 3500: 29041.062783621812\n",
      "Cost after iteration 3600: 28991.866104249428\n",
      "Cost after iteration 3700: 28943.70060294491\n",
      "Cost after iteration 3800: 28904.603447239027\n",
      "Cost after iteration 3900: 28874.562120217222\n",
      "Cost after iteration 4000: 28848.84942162183\n",
      "Cost after iteration 4100: 28825.88596541727\n",
      "Cost after iteration 4200: 28805.044602160262\n",
      "Cost after iteration 4300: 28785.937378789193\n",
      "Cost after iteration 4400: 28768.29412612157\n",
      "Cost after iteration 4500: 28751.91381892806\n",
      "Cost after iteration 4600: 28736.639873310014\n",
      "Cost after iteration 4700: 28722.346266684188\n",
      "Cost after iteration 4800: 28708.929150760618\n",
      "Cost after iteration 4900: 28696.30149751165\n"
     ]
    }
   ],
   "source": [
    "parameters = initializeParameters(2, [5,15], 20,2)\n",
    "params, costs = optimize(X,Y_encoded, parameters, 0.00001, 50000, True)"
   ]
  },
  {
   "cell_type": "code",
   "execution_count": 296,
   "metadata": {},
   "outputs": [
    {
     "name": "stderr",
     "output_type": "stream",
     "text": [
      "/tmp/ipykernel_19238/70635953.py:2: RuntimeWarning: overflow encountered in exp\n",
      "  return 1 / (1 + np.exp(-Z))\n"
     ]
    },
    {
     "name": "stdout",
     "output_type": "stream",
     "text": [
      "1\n",
      "11604 22988\n",
      "{1: 3215, 5: 10312, 0: 8292, 14: 743, 7: 152, 12: 274}\n",
      "{1: 2924, 3: 1487, 2: 852, 0: 7478, 7: 2214, 5: 2770, 9: 2494, 19: 75, 12: 262, 10: 173, 4: 810, 11: 716, 8: 50, 13: 119, 18: 83, 14: 272, 17: 112, 16: 53, 6: 17, 15: 27}\n",
      "{1: 1797, 0: 6806, 5: 2702, 7: 46, 12: 69, 14: 184}\n",
      "50.4785105272316\n"
     ]
    }
   ],
   "source": [
    "a = predict(X, params)\n",
    "i=18\n",
    "print(a[i])\n",
    "sum =0\n",
    "timesGuessedA = {}\n",
    "timesGuessedY = {}\n",
    "trafione = {}\n",
    "for i in range(a.shape[0]):\n",
    "    timesGuessedA[a[i]] = timesGuessedA.get(a[i], 0) + 1    \n",
    "    timesGuessedY[np.argmax(Y_encoded[i])] = timesGuessedY.get(np.argmax(Y_encoded[i]), 0) + 1\n",
    "    if a[i] == np.argmax(Y_encoded[i]):\n",
    "        trafione[a[i]] = trafione.get(a[i], 0) + 1\n",
    "        sum += 1\n",
    "\n",
    "print(sum,a.shape[0])\n",
    "print(timesGuessedA)\n",
    "print(timesGuessedY)\n",
    "print(trafione)\n",
    "print(sum/a.shape[0]*100)"
   ]
  },
  {
   "cell_type": "code",
   "execution_count": 295,
   "metadata": {},
   "outputs": [
    {
     "name": "stdout",
     "output_type": "stream",
     "text": [
      "0\n",
      "2924 5747\n",
      "{5: 2571, 0: 2136, 14: 190, 1: 752, 12: 56, 7: 42}\n",
      "{5: 709, 1: 756, 0: 1868, 14: 54, 3: 372, 9: 624, 7: 544, 4: 179, 2: 201, 10: 46, 11: 188, 12: 69, 13: 35, 15: 7, 17: 27, 18: 15, 8: 16, 19: 19, 16: 15, 6: 3}\n",
      "{5: 691, 0: 1729, 14: 42, 1: 435, 12: 16, 7: 11}\n",
      "50.878719331825295\n"
     ]
    },
    {
     "name": "stderr",
     "output_type": "stream",
     "text": [
      "/tmp/ipykernel_19238/70635953.py:2: RuntimeWarning: overflow encountered in exp\n",
      "  return 1 / (1 + np.exp(-Z))\n"
     ]
    }
   ],
   "source": [
    "a = predict(X_test, params)\n",
    "i=18\n",
    "print(a[i])\n",
    "sum =0\n",
    "timesGuessedA = {}\n",
    "timesGuessedY = {}\n",
    "trafione = {}\n",
    "for i in range(a.shape[0]):\n",
    "    timesGuessedA[a[i]] = timesGuessedA.get(a[i], 0) + 1    \n",
    "    timesGuessedY[np.argmax(Y_test_encoded[i])] = timesGuessedY.get(np.argmax(Y_test_encoded[i]), 0) + 1\n",
    "    if a[i] == np.argmax(Y_test_encoded[i]):\n",
    "        trafione[a[i]] = trafione.get(a[i], 0) + 1\n",
    "        sum += 1\n",
    "\n",
    "print(sum,a.shape[0])\n",
    "print(timesGuessedA)\n",
    "print(timesGuessedY)\n",
    "print(trafione)\n",
    "print(sum/a.shape[0]*100)"
   ]
  },
  {
   "cell_type": "code",
   "execution_count": 294,
   "metadata": {},
   "outputs": [
    {
     "name": "stdout",
     "output_type": "stream",
     "text": [
      "done {'W1': array([[ 0.39808898],\n",
      "       [-0.33005263]]), 'b1': array([[0.]]), 'W2': array([[ 0.24790405, -0.67366659]]), 'b2': array([[0., 0.]]), 'W3': array([[-0.97676816,  0.43539934,  1.23338626, -1.25266705, -0.35052616,\n",
      "        -0.60873379,  0.12813045,  1.09825451, -0.17759404,  0.49698365,\n",
      "        -0.05785868, -0.44283365,  1.52300677, -1.10539908, -2.95527893,\n",
      "         0.62572173, -1.22709148, -1.23186265,  0.52922551, -0.0298159 ],\n",
      "       [ 1.68951384,  0.37848429, -0.08758142,  0.01171019, -0.47589574,\n",
      "        -0.93086109, -0.42911548, -1.41237191,  0.98990527, -1.61679561,\n",
      "        -1.11309222, -0.26369733,  0.28600374,  0.24784717,  0.07841771,\n",
      "        -0.4659612 ,  0.81590848, -0.51917199, -0.13305246, -0.40752705]]), 'b3': array([[0., 0., 0., 0., 0., 0., 0., 0., 0., 0., 0., 0., 0., 0., 0., 0.,\n",
      "        0., 0., 0., 0.]])}\n"
     ]
    }
   ],
   "source": [
    "pars = initializeParameters(2, [1,2], 20, 2)\n",
    "print(\"done\", pars)"
   ]
  },
  {
   "cell_type": "markdown",
   "metadata": {},
   "source": []
  }
 ],
 "metadata": {
  "kernelspec": {
   "display_name": "Python 3",
   "language": "python",
   "name": "python3"
  },
  "language_info": {
   "codemirror_mode": {
    "name": "ipython",
    "version": 3
   },
   "file_extension": ".py",
   "mimetype": "text/x-python",
   "name": "python",
   "nbconvert_exporter": "python",
   "pygments_lexer": "ipython3",
   "version": "3.8.10"
  }
 },
 "nbformat": 4,
 "nbformat_minor": 2
}
