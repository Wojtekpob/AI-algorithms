{
 "cells": [
  {
   "cell_type": "code",
   "execution_count": 52,
   "metadata": {},
   "outputs": [],
   "source": [
    "import numpy as np\n",
    "import matplotlib.pyplot as plt\n",
    "import random\n",
    "import pandas as pd"
   ]
  },
  {
   "cell_type": "code",
   "execution_count": 53,
   "metadata": {},
   "outputs": [],
   "source": [
    "def splitData(data, ratio):\n",
    "    dataLength = len(data)\n",
    "    numberOfTrain = int(dataLength * ratio)\n",
    "    test = data.iloc[numberOfTrain:dataLength]\n",
    "    train = data.iloc[0:numberOfTrain]\n",
    " \n",
    "    return train, test"
   ]
  },
  {
   "cell_type": "code",
   "execution_count": 54,
   "metadata": {},
   "outputs": [],
   "source": [
    "def getRepeatedValues(column):\n",
    "    values = []\n",
    "    for i in range(0, len(column)):\n",
    "        if column[i] not in values:\n",
    "            values.append(column[i])\n",
    "    return values"
   ]
  },
  {
   "cell_type": "code",
   "execution_count": 73,
   "metadata": {},
   "outputs": [],
   "source": [
    "def oneHotEncoding(data, columnNames):\n",
    "    valuesDictionary = {}\n",
    "    for columnName in columnNames:\n",
    "        column = data[columnName]\n",
    "        repeatedValues = getRepeatedValues(column)\n",
    "        valuesDictionary[columnName] = repeatedValues\n",
    "        for i in range(0, len(repeatedValues)):\n",
    "            data[columnName] = data[columnName].replace(repeatedValues[i], i)\n",
    "    return data, valuesDictionary"
   ]
  },
  {
   "cell_type": "code",
   "execution_count": 80,
   "metadata": {},
   "outputs": [],
   "source": [
    "def decodeOneHotEncoding(data, decodingDictionary):\n",
    "    for column in decodingDictionary:\n",
    "        for i in range(0, len(decodingDictionary[column])):\n",
    "            data[column] = data[column].replace(i, decodingDictionary[column][i])\n",
    "    return data"
   ]
  },
  {
   "cell_type": "code",
   "execution_count": 81,
   "metadata": {},
   "outputs": [],
   "source": [
    "def labelDataset(data, columnNames, threshold):\n",
    "    data['passed exam'] = -1\n",
    "    for i in range(0, len(data)):\n",
    "        for column in columnNames:\n",
    "            if data[column][i] <= threshold:\n",
    "                data['passed exam'][i] = 1\n",
    "                break\n",
    "    data.drop(columnNames, axis=1, inplace=True)\n",
    "    return data\n"
   ]
  },
  {
   "cell_type": "code",
   "execution_count": 85,
   "metadata": {},
   "outputs": [
    {
     "data": {
      "text/html": [
       "<div>\n",
       "<style scoped>\n",
       "    .dataframe tbody tr th:only-of-type {\n",
       "        vertical-align: middle;\n",
       "    }\n",
       "\n",
       "    .dataframe tbody tr th {\n",
       "        vertical-align: top;\n",
       "    }\n",
       "\n",
       "    .dataframe thead th {\n",
       "        text-align: right;\n",
       "    }\n",
       "</style>\n",
       "<table border=\"1\" class=\"dataframe\">\n",
       "  <thead>\n",
       "    <tr style=\"text-align: right;\">\n",
       "      <th></th>\n",
       "      <th>gender</th>\n",
       "      <th>race/ethnicity</th>\n",
       "      <th>parental level of education</th>\n",
       "      <th>lunch</th>\n",
       "      <th>test preparation course</th>\n",
       "      <th>passed exam</th>\n",
       "    </tr>\n",
       "  </thead>\n",
       "  <tbody>\n",
       "    <tr>\n",
       "      <th>0</th>\n",
       "      <td>0</td>\n",
       "      <td>0</td>\n",
       "      <td>0</td>\n",
       "      <td>0</td>\n",
       "      <td>0</td>\n",
       "      <td>-1</td>\n",
       "    </tr>\n",
       "    <tr>\n",
       "      <th>1</th>\n",
       "      <td>1</td>\n",
       "      <td>1</td>\n",
       "      <td>1</td>\n",
       "      <td>1</td>\n",
       "      <td>1</td>\n",
       "      <td>1</td>\n",
       "    </tr>\n",
       "    <tr>\n",
       "      <th>2</th>\n",
       "      <td>0</td>\n",
       "      <td>2</td>\n",
       "      <td>2</td>\n",
       "      <td>1</td>\n",
       "      <td>1</td>\n",
       "      <td>1</td>\n",
       "    </tr>\n",
       "    <tr>\n",
       "      <th>3</th>\n",
       "      <td>0</td>\n",
       "      <td>3</td>\n",
       "      <td>0</td>\n",
       "      <td>0</td>\n",
       "      <td>1</td>\n",
       "      <td>-1</td>\n",
       "    </tr>\n",
       "    <tr>\n",
       "      <th>4</th>\n",
       "      <td>0</td>\n",
       "      <td>2</td>\n",
       "      <td>3</td>\n",
       "      <td>0</td>\n",
       "      <td>0</td>\n",
       "      <td>-1</td>\n",
       "    </tr>\n",
       "  </tbody>\n",
       "</table>\n",
       "</div>"
      ],
      "text/plain": [
       "   gender  race/ethnicity  parental level of education  lunch  \\\n",
       "0       0               0                            0      0   \n",
       "1       1               1                            1      1   \n",
       "2       0               2                            2      1   \n",
       "3       0               3                            0      0   \n",
       "4       0               2                            3      0   \n",
       "\n",
       "   test preparation course  passed exam  \n",
       "0                        0           -1  \n",
       "1                        1            1  \n",
       "2                        1            1  \n",
       "3                        1           -1  \n",
       "4                        0           -1  "
      ]
     },
     "execution_count": 85,
     "metadata": {},
     "output_type": "execute_result"
    }
   ],
   "source": [
    "data = pd.read_csv('data/exams.csv')\n",
    "columnsToEncode = ['gender','race/ethnicity',\t'parental level of education',\t'lunch',\t'test preparation course']\n",
    "data, decodingDictionary = oneHotEncoding(data,columnsToEncode)\n",
    "data = labelDataset(data, ['math score', 'reading score', 'writing score'], 60)\n",
    "train, test = splitData(data, 0.7)\n",
    "data.head()\n"
   ]
  },
  {
   "cell_type": "code",
   "execution_count": 57,
   "metadata": {},
   "outputs": [
    {
     "data": {
      "text/plain": [
       "'male'"
      ]
     },
     "execution_count": 57,
     "metadata": {},
     "output_type": "execute_result"
    }
   ],
   "source": [
    "data['gender'][2]"
   ]
  },
  {
   "cell_type": "code",
   "execution_count": null,
   "metadata": {},
   "outputs": [],
   "source": []
  }
 ],
 "metadata": {
  "kernelspec": {
   "display_name": "Python 3",
   "language": "python",
   "name": "python3"
  },
  "language_info": {
   "codemirror_mode": {
    "name": "ipython",
    "version": 3
   },
   "file_extension": ".py",
   "mimetype": "text/x-python",
   "name": "python",
   "nbconvert_exporter": "python",
   "pygments_lexer": "ipython3",
   "version": "3.8.10"
  }
 },
 "nbformat": 4,
 "nbformat_minor": 2
}
